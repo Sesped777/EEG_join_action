{
 "cells": [
  {
   "cell_type": "code",
   "execution_count": 16,
   "id": "041bddcc",
   "metadata": {},
   "outputs": [],
   "source": [
    "import os\n",
    "import pandas as pd\n",
    "import numpy  as np\n",
    "import matplotlib.pyplot as plt\n",
    "import seaborn as sns   \n",
    "import sklearn as sk \n",
    "from sklearn.model_selection import train_test_split, cross_val_score\n",
    "from sklearn.linear_model import LogisticRegression\n",
    "from sklearn.metrics import accuracy_score, confusion_matrix, classification_report"
   ]
  },
  {
   "cell_type": "code",
   "execution_count": 2,
   "id": "95f2e8df",
   "metadata": {},
   "outputs": [],
   "source": [
    "sns.set_theme(style=\"darkgrid\")"
   ]
  },
  {
   "cell_type": "code",
   "execution_count": 3,
   "id": "89f1c2a7",
   "metadata": {},
   "outputs": [],
   "source": [
    "path = \"archivos\"\n",
    "dfs = {}\n",
    "for file in os.scandir(path):\n",
    "    if file.is_file() and file.name.endswith('.csv'):\n",
    "        name = os.path.splitext(file.name)[0]  \n",
    "        dfs[name] = pd.read_csv(file).drop(columns='Unnamed: 0')\n",
    "        "
   ]
  },
  {
   "cell_type": "code",
   "execution_count": 4,
   "id": "970664ad",
   "metadata": {},
   "outputs": [],
   "source": [
    "for name, df in dfs.items():\n",
    "    df.dropna(axis='columns', how = 'all',inplace=True)\n",
    "    df.dropna(axis='rows', how = 'any',inplace=True)\n",
    "    df.reset_index(drop=True, inplace=True)\n",
    "    if 'random' in name.lower():\n",
    "        df['knows'] = 0\n",
    "    else:\n",
    "        df['knows'] = 1    "
   ]
  },
  {
   "cell_type": "code",
   "execution_count": null,
   "id": "d90f2135",
   "metadata": {},
   "outputs": [
    {
     "name": "stdout",
     "output_type": "stream",
     "text": [
      "DataFrames con 'RANDOM': ['CORR-RANDOM_OA', 'CORR-RANDOM_OC', 'CORR-RANDOM_EX']\n",
      "DataFrames sin 'Conocidos': ['CORR_EX', 'CORR_OC', 'CORR_OA']\n"
     ]
    }
   ],
   "source": [
    "dfs_Randoms = {}\n",
    "dfs_knows = {}\n",
    "\n",
    "for name, df in dfs.items():\n",
    "    # si el nombre del archivo contiene 'RANDOM',  y agregar una columna de clasificacion, si es una pareja random con 0 y 1 \n",
    "    if 'RANDOM' in name: \n",
    "        dfs_Randoms[name] = df\n",
    "    else:\n",
    "        dfs_knows[name] = df\n",
    "# Imprimir los nombres de los DataFrames\n",
    "print(\"DataFrames con 'RANDOM':\", list(dfs_Randoms.keys()))\n",
    "print(\"DataFrames sin 'Conocidos':\", list(dfs_knows.keys()))"
   ]
  },
  {
   "cell_type": "code",
   "execution_count": 15,
   "id": "d2ec3ba8",
   "metadata": {},
   "outputs": [
    {
     "data": {
      "text/html": [
       "<div>\n",
       "<style scoped>\n",
       "    .dataframe tbody tr th:only-of-type {\n",
       "        vertical-align: middle;\n",
       "    }\n",
       "\n",
       "    .dataframe tbody tr th {\n",
       "        vertical-align: top;\n",
       "    }\n",
       "\n",
       "    .dataframe thead th {\n",
       "        text-align: right;\n",
       "    }\n",
       "</style>\n",
       "<table border=\"1\" class=\"dataframe\">\n",
       "  <thead>\n",
       "    <tr style=\"text-align: right;\">\n",
       "      <th></th>\n",
       "      <th>Participantes</th>\n",
       "      <th>Condicion</th>\n",
       "      <th>Banda</th>\n",
       "      <th>Tipo</th>\n",
       "      <th>Fp1_A-F3_B</th>\n",
       "      <th>Fp1_A-C3_B</th>\n",
       "      <th>Fp1_A-O1_B</th>\n",
       "      <th>Fp1_A-F7_B</th>\n",
       "      <th>Fp1_A-T3_B</th>\n",
       "      <th>Fp1_A-T5_B</th>\n",
       "      <th>...</th>\n",
       "      <th>C4_A-T4_B</th>\n",
       "      <th>C4_A-T6_B</th>\n",
       "      <th>O2_A-F8_B</th>\n",
       "      <th>O2_A-T4_B</th>\n",
       "      <th>O2_A-T6_B</th>\n",
       "      <th>F8_A-T4_B</th>\n",
       "      <th>F8_A-T6_B</th>\n",
       "      <th>T4_A-T6_B</th>\n",
       "      <th>knows</th>\n",
       "      <th>Grupo</th>\n",
       "    </tr>\n",
       "  </thead>\n",
       "  <tbody>\n",
       "    <tr>\n",
       "      <th>0</th>\n",
       "      <td>P01AP02A</td>\n",
       "      <td>OA</td>\n",
       "      <td>AL1</td>\n",
       "      <td>RNG</td>\n",
       "      <td>0.142763</td>\n",
       "      <td>-0.041958</td>\n",
       "      <td>-0.080684</td>\n",
       "      <td>0.006295</td>\n",
       "      <td>0.181337</td>\n",
       "      <td>0.092182</td>\n",
       "      <td>...</td>\n",
       "      <td>-0.008483</td>\n",
       "      <td>-0.048822</td>\n",
       "      <td>0.017541</td>\n",
       "      <td>0.036531</td>\n",
       "      <td>-0.162862</td>\n",
       "      <td>-0.062394</td>\n",
       "      <td>0.042543</td>\n",
       "      <td>-0.061822</td>\n",
       "      <td>0</td>\n",
       "      <td>NaN</td>\n",
       "    </tr>\n",
       "    <tr>\n",
       "      <th>1</th>\n",
       "      <td>P01AP02A</td>\n",
       "      <td>OA</td>\n",
       "      <td>AL2</td>\n",
       "      <td>RNG</td>\n",
       "      <td>0.221288</td>\n",
       "      <td>0.261613</td>\n",
       "      <td>0.011087</td>\n",
       "      <td>0.221734</td>\n",
       "      <td>0.228780</td>\n",
       "      <td>0.099140</td>\n",
       "      <td>...</td>\n",
       "      <td>-0.108491</td>\n",
       "      <td>-0.120385</td>\n",
       "      <td>-0.068509</td>\n",
       "      <td>0.055610</td>\n",
       "      <td>0.006639</td>\n",
       "      <td>-0.205955</td>\n",
       "      <td>0.048907</td>\n",
       "      <td>0.147456</td>\n",
       "      <td>0</td>\n",
       "      <td>NaN</td>\n",
       "    </tr>\n",
       "    <tr>\n",
       "      <th>2</th>\n",
       "      <td>P01AP02A</td>\n",
       "      <td>OA</td>\n",
       "      <td>BB</td>\n",
       "      <td>RNG</td>\n",
       "      <td>0.171570</td>\n",
       "      <td>0.063807</td>\n",
       "      <td>0.017827</td>\n",
       "      <td>0.029705</td>\n",
       "      <td>-0.004526</td>\n",
       "      <td>0.021170</td>\n",
       "      <td>...</td>\n",
       "      <td>0.024746</td>\n",
       "      <td>-0.031343</td>\n",
       "      <td>-0.011474</td>\n",
       "      <td>0.014392</td>\n",
       "      <td>-0.023173</td>\n",
       "      <td>-0.038180</td>\n",
       "      <td>-0.055637</td>\n",
       "      <td>0.010783</td>\n",
       "      <td>0</td>\n",
       "      <td>NaN</td>\n",
       "    </tr>\n",
       "    <tr>\n",
       "      <th>3</th>\n",
       "      <td>P01AP02A</td>\n",
       "      <td>OA</td>\n",
       "      <td>BT</td>\n",
       "      <td>RNG</td>\n",
       "      <td>0.048264</td>\n",
       "      <td>0.124200</td>\n",
       "      <td>-0.071858</td>\n",
       "      <td>0.152838</td>\n",
       "      <td>-0.003074</td>\n",
       "      <td>-0.061213</td>\n",
       "      <td>...</td>\n",
       "      <td>-0.062112</td>\n",
       "      <td>0.075243</td>\n",
       "      <td>-0.074402</td>\n",
       "      <td>0.040915</td>\n",
       "      <td>-0.024581</td>\n",
       "      <td>-0.006956</td>\n",
       "      <td>0.010774</td>\n",
       "      <td>-0.005363</td>\n",
       "      <td>0</td>\n",
       "      <td>NaN</td>\n",
       "    </tr>\n",
       "    <tr>\n",
       "      <th>4</th>\n",
       "      <td>P01AP02A</td>\n",
       "      <td>OA</td>\n",
       "      <td>DL</td>\n",
       "      <td>RNG</td>\n",
       "      <td>0.270896</td>\n",
       "      <td>0.184752</td>\n",
       "      <td>0.059462</td>\n",
       "      <td>0.064171</td>\n",
       "      <td>0.062049</td>\n",
       "      <td>0.105528</td>\n",
       "      <td>...</td>\n",
       "      <td>0.232025</td>\n",
       "      <td>-0.046056</td>\n",
       "      <td>-0.092230</td>\n",
       "      <td>0.167385</td>\n",
       "      <td>0.026159</td>\n",
       "      <td>-0.112263</td>\n",
       "      <td>-0.080971</td>\n",
       "      <td>-0.052487</td>\n",
       "      <td>0</td>\n",
       "      <td>NaN</td>\n",
       "    </tr>\n",
       "    <tr>\n",
       "      <th>...</th>\n",
       "      <td>...</td>\n",
       "      <td>...</td>\n",
       "      <td>...</td>\n",
       "      <td>...</td>\n",
       "      <td>...</td>\n",
       "      <td>...</td>\n",
       "      <td>...</td>\n",
       "      <td>...</td>\n",
       "      <td>...</td>\n",
       "      <td>...</td>\n",
       "      <td>...</td>\n",
       "      <td>...</td>\n",
       "      <td>...</td>\n",
       "      <td>...</td>\n",
       "      <td>...</td>\n",
       "      <td>...</td>\n",
       "      <td>...</td>\n",
       "      <td>...</td>\n",
       "      <td>...</td>\n",
       "      <td>...</td>\n",
       "      <td>...</td>\n",
       "    </tr>\n",
       "    <tr>\n",
       "      <th>5475</th>\n",
       "      <td>P49</td>\n",
       "      <td>OA</td>\n",
       "      <td>AL1</td>\n",
       "      <td>OR</td>\n",
       "      <td>-0.042097</td>\n",
       "      <td>-0.066911</td>\n",
       "      <td>-0.085687</td>\n",
       "      <td>0.061227</td>\n",
       "      <td>-0.077653</td>\n",
       "      <td>-0.076327</td>\n",
       "      <td>...</td>\n",
       "      <td>0.011351</td>\n",
       "      <td>0.032250</td>\n",
       "      <td>-0.033337</td>\n",
       "      <td>-0.016969</td>\n",
       "      <td>-0.093557</td>\n",
       "      <td>-0.104217</td>\n",
       "      <td>0.035904</td>\n",
       "      <td>0.019803</td>\n",
       "      <td>1</td>\n",
       "      <td>1CN</td>\n",
       "    </tr>\n",
       "    <tr>\n",
       "      <th>5476</th>\n",
       "      <td>P49</td>\n",
       "      <td>OA</td>\n",
       "      <td>AL2</td>\n",
       "      <td>OR</td>\n",
       "      <td>-0.017270</td>\n",
       "      <td>-0.069299</td>\n",
       "      <td>-0.045423</td>\n",
       "      <td>-0.040078</td>\n",
       "      <td>-0.108024</td>\n",
       "      <td>-0.033801</td>\n",
       "      <td>...</td>\n",
       "      <td>0.029906</td>\n",
       "      <td>-0.034814</td>\n",
       "      <td>0.063559</td>\n",
       "      <td>0.013025</td>\n",
       "      <td>-0.025992</td>\n",
       "      <td>-0.010832</td>\n",
       "      <td>-0.022447</td>\n",
       "      <td>-0.117860</td>\n",
       "      <td>1</td>\n",
       "      <td>1CN</td>\n",
       "    </tr>\n",
       "    <tr>\n",
       "      <th>5477</th>\n",
       "      <td>P49</td>\n",
       "      <td>OA</td>\n",
       "      <td>BB</td>\n",
       "      <td>OR</td>\n",
       "      <td>-0.026278</td>\n",
       "      <td>-0.012195</td>\n",
       "      <td>-0.052421</td>\n",
       "      <td>0.057179</td>\n",
       "      <td>-0.057375</td>\n",
       "      <td>-0.088535</td>\n",
       "      <td>...</td>\n",
       "      <td>0.034840</td>\n",
       "      <td>0.028286</td>\n",
       "      <td>-0.057218</td>\n",
       "      <td>0.004108</td>\n",
       "      <td>0.002042</td>\n",
       "      <td>0.002714</td>\n",
       "      <td>0.021608</td>\n",
       "      <td>0.067636</td>\n",
       "      <td>1</td>\n",
       "      <td>1CN</td>\n",
       "    </tr>\n",
       "    <tr>\n",
       "      <th>5478</th>\n",
       "      <td>P49</td>\n",
       "      <td>OA</td>\n",
       "      <td>BT</td>\n",
       "      <td>OR</td>\n",
       "      <td>0.012573</td>\n",
       "      <td>0.034273</td>\n",
       "      <td>-0.034346</td>\n",
       "      <td>0.047830</td>\n",
       "      <td>0.028937</td>\n",
       "      <td>-0.035626</td>\n",
       "      <td>...</td>\n",
       "      <td>-0.013672</td>\n",
       "      <td>0.035719</td>\n",
       "      <td>-0.040003</td>\n",
       "      <td>0.030136</td>\n",
       "      <td>0.014643</td>\n",
       "      <td>-0.001492</td>\n",
       "      <td>0.047521</td>\n",
       "      <td>0.059091</td>\n",
       "      <td>1</td>\n",
       "      <td>1CN</td>\n",
       "    </tr>\n",
       "    <tr>\n",
       "      <th>5479</th>\n",
       "      <td>P49</td>\n",
       "      <td>OA</td>\n",
       "      <td>DL</td>\n",
       "      <td>OR</td>\n",
       "      <td>-0.050387</td>\n",
       "      <td>-0.010622</td>\n",
       "      <td>-0.054229</td>\n",
       "      <td>0.066707</td>\n",
       "      <td>-0.118960</td>\n",
       "      <td>-0.132573</td>\n",
       "      <td>...</td>\n",
       "      <td>0.073623</td>\n",
       "      <td>0.043515</td>\n",
       "      <td>-0.112231</td>\n",
       "      <td>-0.071071</td>\n",
       "      <td>-0.040003</td>\n",
       "      <td>-0.020527</td>\n",
       "      <td>-0.027077</td>\n",
       "      <td>0.196874</td>\n",
       "      <td>1</td>\n",
       "      <td>1CN</td>\n",
       "    </tr>\n",
       "  </tbody>\n",
       "</table>\n",
       "<p>5480 rows × 97 columns</p>\n",
       "</div>"
      ],
      "text/plain": [
       "     Participantes Condicion Banda Tipo  Fp1_A-F3_B  Fp1_A-C3_B  Fp1_A-O1_B  \\\n",
       "0         P01AP02A        OA   AL1  RNG    0.142763   -0.041958   -0.080684   \n",
       "1         P01AP02A        OA   AL2  RNG    0.221288    0.261613    0.011087   \n",
       "2         P01AP02A        OA    BB  RNG    0.171570    0.063807    0.017827   \n",
       "3         P01AP02A        OA    BT  RNG    0.048264    0.124200   -0.071858   \n",
       "4         P01AP02A        OA    DL  RNG    0.270896    0.184752    0.059462   \n",
       "...            ...       ...   ...  ...         ...         ...         ...   \n",
       "5475           P49        OA   AL1   OR   -0.042097   -0.066911   -0.085687   \n",
       "5476           P49        OA   AL2   OR   -0.017270   -0.069299   -0.045423   \n",
       "5477           P49        OA    BB   OR   -0.026278   -0.012195   -0.052421   \n",
       "5478           P49        OA    BT   OR    0.012573    0.034273   -0.034346   \n",
       "5479           P49        OA    DL   OR   -0.050387   -0.010622   -0.054229   \n",
       "\n",
       "      Fp1_A-F7_B  Fp1_A-T3_B  Fp1_A-T5_B  ...  C4_A-T4_B  C4_A-T6_B  \\\n",
       "0       0.006295    0.181337    0.092182  ...  -0.008483  -0.048822   \n",
       "1       0.221734    0.228780    0.099140  ...  -0.108491  -0.120385   \n",
       "2       0.029705   -0.004526    0.021170  ...   0.024746  -0.031343   \n",
       "3       0.152838   -0.003074   -0.061213  ...  -0.062112   0.075243   \n",
       "4       0.064171    0.062049    0.105528  ...   0.232025  -0.046056   \n",
       "...          ...         ...         ...  ...        ...        ...   \n",
       "5475    0.061227   -0.077653   -0.076327  ...   0.011351   0.032250   \n",
       "5476   -0.040078   -0.108024   -0.033801  ...   0.029906  -0.034814   \n",
       "5477    0.057179   -0.057375   -0.088535  ...   0.034840   0.028286   \n",
       "5478    0.047830    0.028937   -0.035626  ...  -0.013672   0.035719   \n",
       "5479    0.066707   -0.118960   -0.132573  ...   0.073623   0.043515   \n",
       "\n",
       "      O2_A-F8_B  O2_A-T4_B  O2_A-T6_B  F8_A-T4_B  F8_A-T6_B  T4_A-T6_B  knows  \\\n",
       "0      0.017541   0.036531  -0.162862  -0.062394   0.042543  -0.061822      0   \n",
       "1     -0.068509   0.055610   0.006639  -0.205955   0.048907   0.147456      0   \n",
       "2     -0.011474   0.014392  -0.023173  -0.038180  -0.055637   0.010783      0   \n",
       "3     -0.074402   0.040915  -0.024581  -0.006956   0.010774  -0.005363      0   \n",
       "4     -0.092230   0.167385   0.026159  -0.112263  -0.080971  -0.052487      0   \n",
       "...         ...        ...        ...        ...        ...        ...    ...   \n",
       "5475  -0.033337  -0.016969  -0.093557  -0.104217   0.035904   0.019803      1   \n",
       "5476   0.063559   0.013025  -0.025992  -0.010832  -0.022447  -0.117860      1   \n",
       "5477  -0.057218   0.004108   0.002042   0.002714   0.021608   0.067636      1   \n",
       "5478  -0.040003   0.030136   0.014643  -0.001492   0.047521   0.059091      1   \n",
       "5479  -0.112231  -0.071071  -0.040003  -0.020527  -0.027077   0.196874      1   \n",
       "\n",
       "      Grupo  \n",
       "0       NaN  \n",
       "1       NaN  \n",
       "2       NaN  \n",
       "3       NaN  \n",
       "4       NaN  \n",
       "...     ...  \n",
       "5475    1CN  \n",
       "5476    1CN  \n",
       "5477    1CN  \n",
       "5478    1CN  \n",
       "5479    1CN  \n",
       "\n",
       "[5480 rows x 97 columns]"
      ]
     },
     "metadata": {},
     "output_type": "display_data"
    },
    {
     "data": {
      "text/html": [
       "<div>\n",
       "<style scoped>\n",
       "    .dataframe tbody tr th:only-of-type {\n",
       "        vertical-align: middle;\n",
       "    }\n",
       "\n",
       "    .dataframe tbody tr th {\n",
       "        vertical-align: top;\n",
       "    }\n",
       "\n",
       "    .dataframe thead th {\n",
       "        text-align: right;\n",
       "    }\n",
       "</style>\n",
       "<table border=\"1\" class=\"dataframe\">\n",
       "  <thead>\n",
       "    <tr style=\"text-align: right;\">\n",
       "      <th></th>\n",
       "      <th>Fp1_A-F3_B</th>\n",
       "      <th>Fp1_A-C3_B</th>\n",
       "      <th>Fp1_A-O1_B</th>\n",
       "      <th>Fp1_A-F7_B</th>\n",
       "      <th>Fp1_A-T3_B</th>\n",
       "      <th>Fp1_A-T5_B</th>\n",
       "      <th>Fp1_A-Fp2_B</th>\n",
       "      <th>Fp1_A-F4_B</th>\n",
       "      <th>Fp1_A-C4_B</th>\n",
       "      <th>Fp1_A-O2_B</th>\n",
       "      <th>...</th>\n",
       "      <th>C4_A-O2_B</th>\n",
       "      <th>C4_A-F8_B</th>\n",
       "      <th>C4_A-T4_B</th>\n",
       "      <th>C4_A-T6_B</th>\n",
       "      <th>O2_A-F8_B</th>\n",
       "      <th>O2_A-T4_B</th>\n",
       "      <th>O2_A-T6_B</th>\n",
       "      <th>F8_A-T4_B</th>\n",
       "      <th>F8_A-T6_B</th>\n",
       "      <th>T4_A-T6_B</th>\n",
       "    </tr>\n",
       "  </thead>\n",
       "  <tbody>\n",
       "    <tr>\n",
       "      <th>3555</th>\n",
       "      <td>0.016571</td>\n",
       "      <td>0.045820</td>\n",
       "      <td>-0.065301</td>\n",
       "      <td>0.041107</td>\n",
       "      <td>-0.056263</td>\n",
       "      <td>-0.080841</td>\n",
       "      <td>0.028734</td>\n",
       "      <td>0.040772</td>\n",
       "      <td>0.043632</td>\n",
       "      <td>-0.058336</td>\n",
       "      <td>...</td>\n",
       "      <td>-0.017918</td>\n",
       "      <td>-0.035350</td>\n",
       "      <td>0.029286</td>\n",
       "      <td>-0.047632</td>\n",
       "      <td>-0.008418</td>\n",
       "      <td>0.011727</td>\n",
       "      <td>-0.031434</td>\n",
       "      <td>-0.025091</td>\n",
       "      <td>0.015791</td>\n",
       "      <td>0.012387</td>\n",
       "    </tr>\n",
       "    <tr>\n",
       "      <th>263</th>\n",
       "      <td>0.047150</td>\n",
       "      <td>-0.026147</td>\n",
       "      <td>0.028326</td>\n",
       "      <td>0.061720</td>\n",
       "      <td>-0.054764</td>\n",
       "      <td>0.015748</td>\n",
       "      <td>-0.017831</td>\n",
       "      <td>0.028164</td>\n",
       "      <td>-0.044753</td>\n",
       "      <td>0.054004</td>\n",
       "      <td>...</td>\n",
       "      <td>-0.013050</td>\n",
       "      <td>-0.064766</td>\n",
       "      <td>0.104733</td>\n",
       "      <td>0.057594</td>\n",
       "      <td>-0.012400</td>\n",
       "      <td>0.256911</td>\n",
       "      <td>0.160141</td>\n",
       "      <td>-0.032494</td>\n",
       "      <td>-0.022207</td>\n",
       "      <td>0.027734</td>\n",
       "    </tr>\n",
       "    <tr>\n",
       "      <th>1004</th>\n",
       "      <td>-0.084062</td>\n",
       "      <td>0.059403</td>\n",
       "      <td>-0.040191</td>\n",
       "      <td>0.005819</td>\n",
       "      <td>-0.031591</td>\n",
       "      <td>0.005761</td>\n",
       "      <td>0.232502</td>\n",
       "      <td>-0.030731</td>\n",
       "      <td>-0.096457</td>\n",
       "      <td>-0.078498</td>\n",
       "      <td>...</td>\n",
       "      <td>0.151305</td>\n",
       "      <td>0.049944</td>\n",
       "      <td>-0.028589</td>\n",
       "      <td>0.006455</td>\n",
       "      <td>0.091571</td>\n",
       "      <td>0.148221</td>\n",
       "      <td>-0.001984</td>\n",
       "      <td>-0.042747</td>\n",
       "      <td>-0.039932</td>\n",
       "      <td>0.008930</td>\n",
       "    </tr>\n",
       "    <tr>\n",
       "      <th>1154</th>\n",
       "      <td>-0.061997</td>\n",
       "      <td>-0.107039</td>\n",
       "      <td>-0.088578</td>\n",
       "      <td>-0.034659</td>\n",
       "      <td>-0.070673</td>\n",
       "      <td>-0.062667</td>\n",
       "      <td>0.086225</td>\n",
       "      <td>0.010812</td>\n",
       "      <td>0.067875</td>\n",
       "      <td>-0.139374</td>\n",
       "      <td>...</td>\n",
       "      <td>-0.079684</td>\n",
       "      <td>0.043763</td>\n",
       "      <td>0.118268</td>\n",
       "      <td>0.003938</td>\n",
       "      <td>0.088307</td>\n",
       "      <td>-0.112459</td>\n",
       "      <td>-0.006233</td>\n",
       "      <td>0.094688</td>\n",
       "      <td>-0.022904</td>\n",
       "      <td>0.029609</td>\n",
       "    </tr>\n",
       "    <tr>\n",
       "      <th>2096</th>\n",
       "      <td>-0.003189</td>\n",
       "      <td>-0.073902</td>\n",
       "      <td>0.011331</td>\n",
       "      <td>-0.009753</td>\n",
       "      <td>0.014584</td>\n",
       "      <td>-0.026989</td>\n",
       "      <td>0.015305</td>\n",
       "      <td>0.033922</td>\n",
       "      <td>0.079426</td>\n",
       "      <td>-0.033363</td>\n",
       "      <td>...</td>\n",
       "      <td>0.074981</td>\n",
       "      <td>0.028615</td>\n",
       "      <td>0.089845</td>\n",
       "      <td>0.088071</td>\n",
       "      <td>-0.138701</td>\n",
       "      <td>-0.036614</td>\n",
       "      <td>-0.034173</td>\n",
       "      <td>0.050574</td>\n",
       "      <td>0.061106</td>\n",
       "      <td>-0.095880</td>\n",
       "    </tr>\n",
       "    <tr>\n",
       "      <th>...</th>\n",
       "      <td>...</td>\n",
       "      <td>...</td>\n",
       "      <td>...</td>\n",
       "      <td>...</td>\n",
       "      <td>...</td>\n",
       "      <td>...</td>\n",
       "      <td>...</td>\n",
       "      <td>...</td>\n",
       "      <td>...</td>\n",
       "      <td>...</td>\n",
       "      <td>...</td>\n",
       "      <td>...</td>\n",
       "      <td>...</td>\n",
       "      <td>...</td>\n",
       "      <td>...</td>\n",
       "      <td>...</td>\n",
       "      <td>...</td>\n",
       "      <td>...</td>\n",
       "      <td>...</td>\n",
       "      <td>...</td>\n",
       "      <td>...</td>\n",
       "    </tr>\n",
       "    <tr>\n",
       "      <th>2221</th>\n",
       "      <td>-0.058507</td>\n",
       "      <td>-0.022293</td>\n",
       "      <td>0.024326</td>\n",
       "      <td>0.079272</td>\n",
       "      <td>0.040769</td>\n",
       "      <td>0.053081</td>\n",
       "      <td>-0.059122</td>\n",
       "      <td>-0.068973</td>\n",
       "      <td>-0.091027</td>\n",
       "      <td>0.050779</td>\n",
       "      <td>...</td>\n",
       "      <td>-0.023451</td>\n",
       "      <td>-0.021640</td>\n",
       "      <td>0.120751</td>\n",
       "      <td>0.043572</td>\n",
       "      <td>0.095678</td>\n",
       "      <td>-0.005297</td>\n",
       "      <td>-0.086321</td>\n",
       "      <td>0.053885</td>\n",
       "      <td>-0.013900</td>\n",
       "      <td>0.024140</td>\n",
       "    </tr>\n",
       "    <tr>\n",
       "      <th>5101</th>\n",
       "      <td>-0.018565</td>\n",
       "      <td>0.113333</td>\n",
       "      <td>-0.012926</td>\n",
       "      <td>0.118740</td>\n",
       "      <td>0.154202</td>\n",
       "      <td>0.071366</td>\n",
       "      <td>-0.048629</td>\n",
       "      <td>-0.176890</td>\n",
       "      <td>-0.095357</td>\n",
       "      <td>-0.111343</td>\n",
       "      <td>...</td>\n",
       "      <td>-0.050653</td>\n",
       "      <td>0.042461</td>\n",
       "      <td>0.014881</td>\n",
       "      <td>-0.044046</td>\n",
       "      <td>-0.054490</td>\n",
       "      <td>0.040127</td>\n",
       "      <td>0.086364</td>\n",
       "      <td>-0.000502</td>\n",
       "      <td>-0.004352</td>\n",
       "      <td>0.142035</td>\n",
       "    </tr>\n",
       "    <tr>\n",
       "      <th>2953</th>\n",
       "      <td>-0.079888</td>\n",
       "      <td>-0.113641</td>\n",
       "      <td>-0.050339</td>\n",
       "      <td>0.091159</td>\n",
       "      <td>0.114075</td>\n",
       "      <td>0.070336</td>\n",
       "      <td>-0.055821</td>\n",
       "      <td>-0.118939</td>\n",
       "      <td>-0.008302</td>\n",
       "      <td>0.038804</td>\n",
       "      <td>...</td>\n",
       "      <td>-0.056545</td>\n",
       "      <td>0.110814</td>\n",
       "      <td>0.011191</td>\n",
       "      <td>-0.054378</td>\n",
       "      <td>0.182792</td>\n",
       "      <td>-0.003003</td>\n",
       "      <td>-0.025690</td>\n",
       "      <td>0.043287</td>\n",
       "      <td>0.076072</td>\n",
       "      <td>-0.013235</td>\n",
       "    </tr>\n",
       "    <tr>\n",
       "      <th>2800</th>\n",
       "      <td>0.024320</td>\n",
       "      <td>0.014413</td>\n",
       "      <td>0.002571</td>\n",
       "      <td>-0.023720</td>\n",
       "      <td>-0.030884</td>\n",
       "      <td>-0.035997</td>\n",
       "      <td>-0.030110</td>\n",
       "      <td>0.027813</td>\n",
       "      <td>0.026909</td>\n",
       "      <td>0.033163</td>\n",
       "      <td>...</td>\n",
       "      <td>-0.000810</td>\n",
       "      <td>0.043032</td>\n",
       "      <td>0.016496</td>\n",
       "      <td>0.002111</td>\n",
       "      <td>0.034699</td>\n",
       "      <td>-0.018773</td>\n",
       "      <td>-0.058737</td>\n",
       "      <td>-0.015117</td>\n",
       "      <td>0.004806</td>\n",
       "      <td>-0.006658</td>\n",
       "    </tr>\n",
       "    <tr>\n",
       "      <th>1605</th>\n",
       "      <td>0.013994</td>\n",
       "      <td>0.034042</td>\n",
       "      <td>-0.079048</td>\n",
       "      <td>0.030155</td>\n",
       "      <td>0.071325</td>\n",
       "      <td>-0.022897</td>\n",
       "      <td>0.057872</td>\n",
       "      <td>-0.000020</td>\n",
       "      <td>0.053149</td>\n",
       "      <td>-0.071441</td>\n",
       "      <td>...</td>\n",
       "      <td>0.019670</td>\n",
       "      <td>-0.100445</td>\n",
       "      <td>0.140986</td>\n",
       "      <td>0.009788</td>\n",
       "      <td>-0.087672</td>\n",
       "      <td>0.088262</td>\n",
       "      <td>0.019178</td>\n",
       "      <td>0.009760</td>\n",
       "      <td>-0.059047</td>\n",
       "      <td>-0.018190</td>\n",
       "    </tr>\n",
       "  </tbody>\n",
       "</table>\n",
       "<p>4384 rows × 91 columns</p>\n",
       "</div>"
      ],
      "text/plain": [
       "      Fp1_A-F3_B  Fp1_A-C3_B  Fp1_A-O1_B  Fp1_A-F7_B  Fp1_A-T3_B  Fp1_A-T5_B  \\\n",
       "3555    0.016571    0.045820   -0.065301    0.041107   -0.056263   -0.080841   \n",
       "263     0.047150   -0.026147    0.028326    0.061720   -0.054764    0.015748   \n",
       "1004   -0.084062    0.059403   -0.040191    0.005819   -0.031591    0.005761   \n",
       "1154   -0.061997   -0.107039   -0.088578   -0.034659   -0.070673   -0.062667   \n",
       "2096   -0.003189   -0.073902    0.011331   -0.009753    0.014584   -0.026989   \n",
       "...          ...         ...         ...         ...         ...         ...   \n",
       "2221   -0.058507   -0.022293    0.024326    0.079272    0.040769    0.053081   \n",
       "5101   -0.018565    0.113333   -0.012926    0.118740    0.154202    0.071366   \n",
       "2953   -0.079888   -0.113641   -0.050339    0.091159    0.114075    0.070336   \n",
       "2800    0.024320    0.014413    0.002571   -0.023720   -0.030884   -0.035997   \n",
       "1605    0.013994    0.034042   -0.079048    0.030155    0.071325   -0.022897   \n",
       "\n",
       "      Fp1_A-Fp2_B  Fp1_A-F4_B  Fp1_A-C4_B  Fp1_A-O2_B  ...  C4_A-O2_B  \\\n",
       "3555     0.028734    0.040772    0.043632   -0.058336  ...  -0.017918   \n",
       "263     -0.017831    0.028164   -0.044753    0.054004  ...  -0.013050   \n",
       "1004     0.232502   -0.030731   -0.096457   -0.078498  ...   0.151305   \n",
       "1154     0.086225    0.010812    0.067875   -0.139374  ...  -0.079684   \n",
       "2096     0.015305    0.033922    0.079426   -0.033363  ...   0.074981   \n",
       "...           ...         ...         ...         ...  ...        ...   \n",
       "2221    -0.059122   -0.068973   -0.091027    0.050779  ...  -0.023451   \n",
       "5101    -0.048629   -0.176890   -0.095357   -0.111343  ...  -0.050653   \n",
       "2953    -0.055821   -0.118939   -0.008302    0.038804  ...  -0.056545   \n",
       "2800    -0.030110    0.027813    0.026909    0.033163  ...  -0.000810   \n",
       "1605     0.057872   -0.000020    0.053149   -0.071441  ...   0.019670   \n",
       "\n",
       "      C4_A-F8_B  C4_A-T4_B  C4_A-T6_B  O2_A-F8_B  O2_A-T4_B  O2_A-T6_B  \\\n",
       "3555  -0.035350   0.029286  -0.047632  -0.008418   0.011727  -0.031434   \n",
       "263   -0.064766   0.104733   0.057594  -0.012400   0.256911   0.160141   \n",
       "1004   0.049944  -0.028589   0.006455   0.091571   0.148221  -0.001984   \n",
       "1154   0.043763   0.118268   0.003938   0.088307  -0.112459  -0.006233   \n",
       "2096   0.028615   0.089845   0.088071  -0.138701  -0.036614  -0.034173   \n",
       "...         ...        ...        ...        ...        ...        ...   \n",
       "2221  -0.021640   0.120751   0.043572   0.095678  -0.005297  -0.086321   \n",
       "5101   0.042461   0.014881  -0.044046  -0.054490   0.040127   0.086364   \n",
       "2953   0.110814   0.011191  -0.054378   0.182792  -0.003003  -0.025690   \n",
       "2800   0.043032   0.016496   0.002111   0.034699  -0.018773  -0.058737   \n",
       "1605  -0.100445   0.140986   0.009788  -0.087672   0.088262   0.019178   \n",
       "\n",
       "      F8_A-T4_B  F8_A-T6_B  T4_A-T6_B  \n",
       "3555  -0.025091   0.015791   0.012387  \n",
       "263   -0.032494  -0.022207   0.027734  \n",
       "1004  -0.042747  -0.039932   0.008930  \n",
       "1154   0.094688  -0.022904   0.029609  \n",
       "2096   0.050574   0.061106  -0.095880  \n",
       "...         ...        ...        ...  \n",
       "2221   0.053885  -0.013900   0.024140  \n",
       "5101  -0.000502  -0.004352   0.142035  \n",
       "2953   0.043287   0.076072  -0.013235  \n",
       "2800  -0.015117   0.004806  -0.006658  \n",
       "1605   0.009760  -0.059047  -0.018190  \n",
       "\n",
       "[4384 rows x 91 columns]"
      ]
     },
     "metadata": {},
     "output_type": "display_data"
    }
   ],
   "source": [
    "df_total = pd.concat(list(dfs_Randoms.values()) + list(dfs_knows.values()), ignore_index=True)\n",
    "display(df_total)\n",
    "y = df_total['knows']\n",
    "X = df_total.drop(columns=['knows','Tipo','Condicion','Banda','Participantes','Grupo'])\n",
    "X_train, X_test, y_train, y_test = train_test_split(X, y, test_size=0.2)\n",
    "display(X_train)\n",
    "\n",
    "logistic_model = LogisticRegression()"
   ]
  },
  {
   "cell_type": "code",
   "execution_count": null,
   "id": "3264beba",
   "metadata": {},
   "outputs": [],
   "source": [
    "for name, df in dfs_knows.items():"
   ]
  },
  {
   "cell_type": "code",
   "execution_count": 13,
   "id": "48dcebda",
   "metadata": {},
   "outputs": [
    {
     "name": "stdout",
     "output_type": "stream",
     "text": [
      "Accuracy: 0.8220802919708029\n",
      "Confusion Matrix:\n",
      " [[901   0]\n",
      " [195   0]]\n"
     ]
    },
    {
     "data": {
      "text/plain": [
       "Text(66.25, 0.5, 'Actual')"
      ]
     },
     "execution_count": 13,
     "metadata": {},
     "output_type": "execute_result"
    },
    {
     "data": {
      "image/png": "[encoded data removed]",
      "text/plain": [
       "<Figure size 800x600 with 2 Axes>"
      ]
     },
     "metadata": {},
     "output_type": "display_data"
    }
   ],
   "source": [
    "logistic_model.fit(X_train, y_train)\n",
    "y_pred = logistic_model.predict(X_test)\n",
    "\n",
    "print(\"Accuracy:\", accuracy_score(y_test, y_pred))\n",
    "print(\"Confusion Matrix:\\n\", confusion_matrix(y_test, y_pred))\n",
    "\n",
    "\n",
    "# Visualizar la matriz de confusión\n",
    "cm = confusion_matrix(y_test, y_pred)\n",
    "plt.figure(figsize=(8, 6))\n",
    "sns.heatmap(cm, annot=True, fmt='d', cmap='Blues', xticklabels=['Random', 'Known'], yticklabels=['Random', 'Known'])\n",
    "plt.title('Confusion Matrix')\n",
    "plt.xlabel('Predicted')\n",
    "plt.ylabel('Actual')"
   ]
  },
  {
   "cell_type": "code",
   "execution_count": 8,
   "id": "64fe7818",
   "metadata": {},
   "outputs": [],
   "source": [
    "from minisom import MiniSom\n",
    "\n",
    "som = MiniSom(5,5,91, sigma= 0.3,learning_rate=0.5)\n",
    "X_train_numpy = X_train.to_numpy()\n",
    "som.train(X_train_numpy, 100)\n"
   ]
  },
  {
   "cell_type": "code",
   "execution_count": 9,
   "id": "aafee8db",
   "metadata": {},
   "outputs": [
    {
     "data": {
      "application/vnd.plotly.v1+json": {
       "config": {
        "plotlyServerURL": "https://plot.ly"
       },
       "data": [
        {
         "colorscale": [
          [
           0,
           "#440154"
          ],
          [
           0.1111111111111111,
           "#482878"
          ],
          [
           0.2222222222222222,
           "#3e4989"
          ],
          [
           0.3333333333333333,
           "#31688e"
          ],
          [
           0.4444444444444444,
           "#26828e"
          ],
          [
           0.5555555555555556,
           "#1f9e89"
          ],
          [
           0.6666666666666666,
           "#35b779"
          ],
          [
           0.7777777777777778,
           "#6ece58"
          ],
          [
           0.8888888888888888,
           "#b5de2b"
          ],
          [
           1,
           "#fde725"
          ]
         ],
         "type": "heatmap",
         "z": {
          "bdata": "AAAAAAAA+H8AAAAAAAD4f7Ns1SfTBcA/AAAAAAAA+H9xJXxoKqXEPwAAAAAAAPh/y4cB874axz8AAAAAAAD4fwAAAAAAAPh/AAAAAAAA+H8AAAAAAAD4fwAAAAAAAPh/upcapt6PwT9syoOyp4a0PxX59sUsPas/AAAAAAAA+H8AAAAAAAD4f3x6edeI4sM/+5Sg/35rxT9mN5NJz47DPwAAAAAAAPh/AAAAAAAA+H+JMtlDfNnAP+hX+GZUjMY/AAAAAAAA+H8=",
          "dtype": "f8",
          "shape": "5, 5"
         }
        }
       ],
       "layout": {
        "template": {
         "data": {
          "bar": [
           {
            "error_x": {
             "color": "#2a3f5f"
            },
            "error_y": {
             "color": "#2a3f5f"
            },
            "marker": {
             "line": {
              "color": "#E5ECF6",
              "width": 0.5
             },
             "pattern": {
              "fillmode": "overlay",
              "size": 10,
              "solidity": 0.2
             }
            },
            "type": "bar"
           }
          ],
          "barpolar": [
           {
            "marker": {
             "line": {
              "color": "#E5ECF6",
              "width": 0.5
             },
             "pattern": {
              "fillmode": "overlay",
              "size": 10,
              "solidity": 0.2
             }
            },
            "type": "barpolar"
           }
          ],
          "carpet": [
           {
            "aaxis": {
             "endlinecolor": "#2a3f5f",
             "gridcolor": "white",
             "linecolor": "white",
             "minorgridcolor": "white",
             "startlinecolor": "#2a3f5f"
            },
            "baxis": {
             "endlinecolor": "#2a3f5f",
             "gridcolor": "white",
             "linecolor": "white",
             "minorgridcolor": "white",
             "startlinecolor": "#2a3f5f"
            },
            "type": "carpet"
           }
          ],
          "choropleth": [
           {
            "colorbar": {
             "outlinewidth": 0,
             "ticks": ""
            },
            "type": "choropleth"
           }
          ],
          "contour": [
           {
            "colorbar": {
             "outlinewidth": 0,
             "ticks": ""
            },
            "colorscale": [
             [
              0,
              "#0d0887"
             ],
             [
              0.1111111111111111,
              "#46039f"
             ],
             [
              0.2222222222222222,
              "#7201a8"
             ],
             [
              0.3333333333333333,
              "#9c179e"
             ],
             [
              0.4444444444444444,
              "#bd3786"
             ],
             [
              0.5555555555555556,
              "#d8576b"
             ],
             [
              0.6666666666666666,
              "#ed7953"
             ],
             [
              0.7777777777777778,
              "#fb9f3a"
             ],
             [
              0.8888888888888888,
              "#fdca26"
             ],
             [
              1,
              "#f0f921"
             ]
            ],
            "type": "contour"
           }
          ],
          "contourcarpet": [
           {
            "colorbar": {
             "outlinewidth": 0,
             "ticks": ""
            },
            "type": "contourcarpet"
           }
          ],
          "heatmap": [
           {
            "colorbar": {
             "outlinewidth": 0,
             "ticks": ""
            },
            "colorscale": [
             [
              0,
              "#0d0887"
             ],
             [
              0.1111111111111111,
              "#46039f"
             ],
             [
              0.2222222222222222,
              "#7201a8"
             ],
             [
              0.3333333333333333,
              "#9c179e"
             ],
             [
              0.4444444444444444,
              "#bd3786"
             ],
             [
              0.5555555555555556,
              "#d8576b"
             ],
             [
              0.6666666666666666,
              "#ed7953"
             ],
             [
              0.7777777777777778,
              "#fb9f3a"
             ],
             [
              0.8888888888888888,
              "#fdca26"
             ],
             [
              1,
              "#f0f921"
             ]
            ],
            "type": "heatmap"
           }
          ],
          "histogram": [
           {
            "marker": {
             "pattern": {
              "fillmode": "overlay",
              "size": 10,
              "solidity": 0.2
             }
            },
            "type": "histogram"
           }
          ],
          "histogram2d": [
           {
            "colorbar": {
             "outlinewidth": 0,
             "ticks": ""
            },
            "colorscale": [
             [
              0,
              "#0d0887"
             ],
             [
              0.1111111111111111,
              "#46039f"
             ],
             [
              0.2222222222222222,
              "#7201a8"
             ],
             [
              0.3333333333333333,
              "#9c179e"
             ],
             [
              0.4444444444444444,
              "#bd3786"
             ],
             [
              0.5555555555555556,
              "#d8576b"
             ],
             [
              0.6666666666666666,
              "#ed7953"
             ],
             [
              0.7777777777777778,
              "#fb9f3a"
             ],
             [
              0.8888888888888888,
              "#fdca26"
             ],
             [
              1,
              "#f0f921"
             ]
            ],
            "type": "histogram2d"
           }
          ],
          "histogram2dcontour": [
           {
            "colorbar": {
             "outlinewidth": 0,
             "ticks": ""
            },
            "colorscale": [
             [
              0,
              "#0d0887"
             ],
             [
              0.1111111111111111,
              "#46039f"
             ],
             [
              0.2222222222222222,
              "#7201a8"
             ],
             [
              0.3333333333333333,
              "#9c179e"
             ],
             [
              0.4444444444444444,
              "#bd3786"
             ],
             [
              0.5555555555555556,
              "#d8576b"
             ],
             [
              0.6666666666666666,
              "#ed7953"
             ],
             [
              0.7777777777777778,
              "#fb9f3a"
             ],
             [
              0.8888888888888888,
              "#fdca26"
             ],
             [
              1,
              "#f0f921"
             ]
            ],
            "type": "histogram2dcontour"
           }
          ],
          "mesh3d": [
           {
            "colorbar": {
             "outlinewidth": 0,
             "ticks": ""
            },
            "type": "mesh3d"
           }
          ],
          "parcoords": [
           {
            "line": {
             "colorbar": {
              "outlinewidth": 0,
              "ticks": ""
             }
            },
            "type": "parcoords"
           }
          ],
          "pie": [
           {
            "automargin": true,
            "type": "pie"
           }
          ],
          "scatter": [
           {
            "fillpattern": {
             "fillmode": "overlay",
             "size": 10,
             "solidity": 0.2
            },
            "type": "scatter"
           }
          ],
          "scatter3d": [
           {
            "line": {
             "colorbar": {
              "outlinewidth": 0,
              "ticks": ""
             }
            },
            "marker": {
             "colorbar": {
              "outlinewidth": 0,
              "ticks": ""
             }
            },
            "type": "scatter3d"
           }
          ],
          "scattercarpet": [
           {
            "marker": {
             "colorbar": {
              "outlinewidth": 0,
              "ticks": ""
             }
            },
            "type": "scattercarpet"
           }
          ],
          "scattergeo": [
           {
            "marker": {
             "colorbar": {
              "outlinewidth": 0,
              "ticks": ""
             }
            },
            "type": "scattergeo"
           }
          ],
          "scattergl": [
           {
            "marker": {
             "colorbar": {
              "outlinewidth": 0,
              "ticks": ""
             }
            },
            "type": "scattergl"
           }
          ],
          "scattermap": [
           {
            "marker": {
             "colorbar": {
              "outlinewidth": 0,
              "ticks": ""
             }
            },
            "type": "scattermap"
           }
          ],
          "scattermapbox": [
           {
            "marker": {
             "colorbar": {
              "outlinewidth": 0,
              "ticks": ""
             }
            },
            "type": "scattermapbox"
           }
          ],
          "scatterpolar": [
           {
            "marker": {
             "colorbar": {
              "outlinewidth": 0,
              "ticks": ""
             }
            },
            "type": "scatterpolar"
           }
          ],
          "scatterpolargl": [
           {
            "marker": {
             "colorbar": {
              "outlinewidth": 0,
              "ticks": ""
             }
            },
            "type": "scatterpolargl"
           }
          ],
          "scatterternary": [
           {
            "marker": {
             "colorbar": {
              "outlinewidth": 0,
              "ticks": ""
             }
            },
            "type": "scatterternary"
           }
          ],
          "surface": [
           {
            "colorbar": {
             "outlinewidth": 0,
             "ticks": ""
            },
            "colorscale": [
             [
              0,
              "#0d0887"
             ],
             [
              0.1111111111111111,
              "#46039f"
             ],
             [
              0.2222222222222222,
              "#7201a8"
             ],
             [
              0.3333333333333333,
              "#9c179e"
             ],
             [
              0.4444444444444444,
              "#bd3786"
             ],
             [
              0.5555555555555556,
              "#d8576b"
             ],
             [
              0.6666666666666666,
              "#ed7953"
             ],
             [
              0.7777777777777778,
              "#fb9f3a"
             ],
             [
              0.8888888888888888,
              "#fdca26"
             ],
             [
              1,
              "#f0f921"
             ]
            ],
            "type": "surface"
           }
          ],
          "table": [
           {
            "cells": {
             "fill": {
              "color": "#EBF0F8"
             },
             "line": {
              "color": "white"
             }
            },
            "header": {
             "fill": {
              "color": "#C8D4E3"
             },
             "line": {
              "color": "white"
             }
            },
            "type": "table"
           }
          ]
         },
         "layout": {
          "annotationdefaults": {
           "arrowcolor": "#2a3f5f",
           "arrowhead": 0,
           "arrowwidth": 1
          },
          "autotypenumbers": "strict",
          "coloraxis": {
           "colorbar": {
            "outlinewidth": 0,
            "ticks": ""
           }
          },
          "colorscale": {
           "diverging": [
            [
             0,
             "#8e0152"
            ],
            [
             0.1,
             "#c51b7d"
            ],
            [
             0.2,
             "#de77ae"
            ],
            [
             0.3,
             "#f1b6da"
            ],
            [
             0.4,
             "#fde0ef"
            ],
            [
             0.5,
             "#f7f7f7"
            ],
            [
             0.6,
             "#e6f5d0"
            ],
            [
             0.7,
             "#b8e186"
            ],
            [
             0.8,
             "#7fbc41"
            ],
            [
             0.9,
             "#4d9221"
            ],
            [
             1,
             "#276419"
            ]
           ],
           "sequential": [
            [
             0,
             "#0d0887"
            ],
            [
             0.1111111111111111,
             "#46039f"
            ],
            [
             0.2222222222222222,
             "#7201a8"
            ],
            [
             0.3333333333333333,
             "#9c179e"
            ],
            [
             0.4444444444444444,
             "#bd3786"
            ],
            [
             0.5555555555555556,
             "#d8576b"
            ],
            [
             0.6666666666666666,
             "#ed7953"
            ],
            [
             0.7777777777777778,
             "#fb9f3a"
            ],
            [
             0.8888888888888888,
             "#fdca26"
            ],
            [
             1,
             "#f0f921"
            ]
           ],
           "sequentialminus": [
            [
             0,
             "#0d0887"
            ],
            [
             0.1111111111111111,
             "#46039f"
            ],
            [
             0.2222222222222222,
             "#7201a8"
            ],
            [
             0.3333333333333333,
             "#9c179e"
            ],
            [
             0.4444444444444444,
             "#bd3786"
            ],
            [
             0.5555555555555556,
             "#d8576b"
            ],
            [
             0.6666666666666666,
             "#ed7953"
            ],
            [
             0.7777777777777778,
             "#fb9f3a"
            ],
            [
             0.8888888888888888,
             "#fdca26"
            ],
            [
             1,
             "#f0f921"
            ]
           ]
          },
          "colorway": [
           "#636efa",
           "#EF553B",
           "#00cc96",
           "#ab63fa",
           "#FFA15A",
           "#19d3f3",
           "#FF6692",
           "#B6E880",
           "#FF97FF",
           "#FECB52"
          ],
          "font": {
           "color": "#2a3f5f"
          },
          "geo": {
           "bgcolor": "white",
           "lakecolor": "white",
           "landcolor": "#E5ECF6",
           "showlakes": true,
           "showland": true,
           "subunitcolor": "white"
          },
          "hoverlabel": {
           "align": "left"
          },
          "hovermode": "closest",
          "mapbox": {
           "style": "light"
          },
          "paper_bgcolor": "white",
          "plot_bgcolor": "#E5ECF6",
          "polar": {
           "angularaxis": {
            "gridcolor": "white",
            "linecolor": "white",
            "ticks": ""
           },
           "bgcolor": "#E5ECF6",
           "radialaxis": {
            "gridcolor": "white",
            "linecolor": "white",
            "ticks": ""
           }
          },
          "scene": {
           "xaxis": {
            "backgroundcolor": "#E5ECF6",
            "gridcolor": "white",
            "gridwidth": 2,
            "linecolor": "white",
            "showbackground": true,
            "ticks": "",
            "zerolinecolor": "white"
           },
           "yaxis": {
            "backgroundcolor": "#E5ECF6",
            "gridcolor": "white",
            "gridwidth": 2,
            "linecolor": "white",
            "showbackground": true,
            "ticks": "",
            "zerolinecolor": "white"
           },
           "zaxis": {
            "backgroundcolor": "#E5ECF6",
            "gridcolor": "white",
            "gridwidth": 2,
            "linecolor": "white",
            "showbackground": true,
            "ticks": "",
            "zerolinecolor": "white"
           }
          },
          "shapedefaults": {
           "line": {
            "color": "#2a3f5f"
           }
          },
          "ternary": {
           "aaxis": {
            "gridcolor": "white",
            "linecolor": "white",
            "ticks": ""
           },
           "baxis": {
            "gridcolor": "white",
            "linecolor": "white",
            "ticks": ""
           },
           "bgcolor": "#E5ECF6",
           "caxis": {
            "gridcolor": "white",
            "linecolor": "white",
            "ticks": ""
           }
          },
          "title": {
           "x": 0.05
          },
          "xaxis": {
           "automargin": true,
           "gridcolor": "white",
           "linecolor": "white",
           "ticks": "",
           "title": {
            "standoff": 15
           },
           "zerolinecolor": "white",
           "zerolinewidth": 2
          },
          "yaxis": {
           "automargin": true,
           "gridcolor": "white",
           "linecolor": "white",
           "ticks": "",
           "title": {
            "standoff": 15
           },
           "zerolinecolor": "white",
           "zerolinewidth": 2
          }
         }
        },
        "title": {
         "text": "quality plot"
        }
       }
      }
     },
     "metadata": {},
     "output_type": "display_data"
    }
   ],
   "source": [
    "import plotly.graph_objects as go\n",
    "\n",
    "win_map = som.win_map(X_train_numpy)\n",
    "size=som.distance_map().shape[0]\n",
    "qualities=np.empty((size,size))\n",
    "qualities[:]=np.nan\n",
    "for position, values in win_map.items():\n",
    "    qualities[position[0], position[1]] = np.mean(abs(values-som.get_weights()[position[0], position[1]]))\n",
    "\n",
    "layout = go.Layout(title='quality plot')\n",
    "fig = go.Figure(layout=layout)\n",
    "fig.add_trace(go.Heatmap(z=qualities, colorscale='Viridis'))\n",
    "fig.show()\n",
    "\n"
   ]
  }
 ],
 "metadata": {
  "kernelspec": {
   "display_name": "EEG",
   "language": "python",
   "name": "python3"
  },
  "language_info": {
   "codemirror_mode": {
    "name": "ipython",
    "version": 3
   },
   "file_extension": ".py",
   "mimetype": "text/x-python",
   "name": "python",
   "nbconvert_exporter": "python",
   "pygments_lexer": "ipython3",
   "version": "3.12.3"
  }
 },
 "nbformat": 4,
 "nbformat_minor": 5
}
