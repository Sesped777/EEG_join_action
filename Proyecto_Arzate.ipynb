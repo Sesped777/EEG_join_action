{
 "cells": [
  {
   "cell_type": "code",
   "execution_count": 78,
   "id": "041bddcc",
   "metadata": {},
   "outputs": [],
   "source": [
    "import os\n",
    "import pandas as pd\n",
    "import numpy  as np\n",
    "import matplotlib.pyplot as plt\n",
    "import seaborn as sns   \n",
    "import sklearn as sk \n",
    "from sklearn.model_selection import train_test_split, cross_val_score\n",
    "from sklearn.linear_model import LogisticRegression\n",
    "from sklearn.metrics import accuracy_score, confusion_matrix, classification_report"
   ]
  },
  {
   "cell_type": "code",
   "execution_count": 79,
   "id": "95f2e8df",
   "metadata": {},
   "outputs": [],
   "source": [
    "sns.set_theme(style=\"darkgrid\")"
   ]
  },
  {
   "cell_type": "markdown",
   "id": "cb485f10",
   "metadata": {},
   "source": [
    "### Leer archivos csv y agregarlos en un diccionario\n",
    "\n",
    "Se organiza de tal manera de que de un diccionario tenga <br>\n",
    "```python\n",
    "dfs = {nombre_archivo1:{dataframe1} , nombre_archivo2:{dataframe2} , ... , nombre_archivo_n:{dataframe_n} }\n",
    "```\n"
   ]
  },
  {
   "cell_type": "code",
   "execution_count": 81,
   "id": "89f1c2a7",
   "metadata": {},
   "outputs": [],
   "source": [
    "path = \"archivos\"\n",
    "dfs = {}\n",
    "for file in os.scandir(path):\n",
    "    if file.is_file() and file.name.endswith('.csv'):\n",
    "        name = os.path.splitext(file.name)[0]  \n",
    "        dfs[name] = pd.read_csv(file).drop(columns='Unnamed: 0')\n",
    "        "
   ]
  },
  {
   "cell_type": "markdown",
   "id": "e5c4b3f0",
   "metadata": {},
   "source": [
    "### Hacemos una pequenia limpieza de datos\n",
    "##### Eliminamos alguna columna grupo que es nula y filas que tienen datos nulos"
   ]
  },
  {
   "cell_type": "code",
   "execution_count": 83,
   "id": "970664ad",
   "metadata": {},
   "outputs": [],
   "source": [
    "for name, df in dfs.items():\n",
    "    df.dropna(axis='columns', how = 'all',inplace=True)\n",
    "    df.dropna(axis='rows', how = 'any',inplace=True)\n",
    "    df.reset_index(drop=True, inplace=True)\n",
    "    if 'random' in name.lower():\n",
    "        df['Real'] = 0\n",
    "    else:\n",
    "        df['Real'] = 1    "
   ]
  },
  {
   "cell_type": "code",
   "execution_count": 43,
   "id": "d90f2135",
   "metadata": {},
   "outputs": [
    {
     "name": "stdout",
     "output_type": "stream",
     "text": [
      "DataFrames con 'RANDOM': ['CORR-RANDOM_OA', 'CORR-RANDOM_OC', 'CORR-RANDOM_EX']\n",
      "DataFrames sin 'Real': ['CORR_EX', 'CORR_OC', 'CORR_OA']\n"
     ]
    }
   ],
   "source": [
    "dfs_Randoms = {}\n",
    "dfs_Real = {}\n",
    "\n",
    "for name, df in dfs.items():\n",
    "    # si el nombre del archivo contiene 'RANDOM',  y agregar una columna de clasificacion, si es una pareja random con 0 y 1 \n",
    "    if 'RANDOM' in name: \n",
    "        dfs_Randoms[name] = df\n",
    "    else:\n",
    "        dfs_Real[name] = df\n",
    "# Imprimir los nombres de los DataFrames\n",
    "print(\"DataFrames con 'RANDOM':\", list(dfs_Randoms.keys()))\n",
    "print(\"DataFrames sin 'Real':\", list(dfs_Real.keys()))"
   ]
  },
  {
   "cell_type": "markdown",
   "id": "ffe39163",
   "metadata": {},
   "source": [
    "Empezamos a hacer modelos para los todos los datos juntos"
   ]
  },
  {
   "cell_type": "code",
   "execution_count": 74,
   "id": "a308e912",
   "metadata": {},
   "outputs": [],
   "source": [
    "dfs_total_Random = pd.concat(dfs_Randoms.values(), ignore_index=True)\n",
    "dfs_total_Random = dfs_total_Random.sample(frac=1, random_state=1984).reset_index(drop=True)\n",
    "#display(dfs_total_Random)\n",
    "\n",
    "df_Random = dfs_total_Random.iloc[:len(dfs_total_Random)//4]  \n",
    "#display(df_Random)"
   ]
  },
  {
   "cell_type": "code",
   "execution_count": null,
   "id": "d2ec3ba8",
   "metadata": {},
   "outputs": [
    {
     "data": {
      "text/html": [
       "<div>\n",
       "<style scoped>\n",
       "    .dataframe tbody tr th:only-of-type {\n",
       "        vertical-align: middle;\n",
       "    }\n",
       "\n",
       "    .dataframe tbody tr th {\n",
       "        vertical-align: top;\n",
       "    }\n",
       "\n",
       "    .dataframe thead th {\n",
       "        text-align: right;\n",
       "    }\n",
       "</style>\n",
       "<table border=\"1\" class=\"dataframe\">\n",
       "  <thead>\n",
       "    <tr style=\"text-align: right;\">\n",
       "      <th></th>\n",
       "      <th>Participantes</th>\n",
       "      <th>Condicion</th>\n",
       "      <th>Banda</th>\n",
       "      <th>Tipo</th>\n",
       "      <th>Fp1_A-F3_B</th>\n",
       "      <th>Fp1_A-C3_B</th>\n",
       "      <th>Fp1_A-O1_B</th>\n",
       "      <th>Fp1_A-F7_B</th>\n",
       "      <th>Fp1_A-T3_B</th>\n",
       "      <th>Fp1_A-T5_B</th>\n",
       "      <th>...</th>\n",
       "      <th>C4_A-T4_B</th>\n",
       "      <th>C4_A-T6_B</th>\n",
       "      <th>O2_A-F8_B</th>\n",
       "      <th>O2_A-T4_B</th>\n",
       "      <th>O2_A-T6_B</th>\n",
       "      <th>F8_A-T4_B</th>\n",
       "      <th>F8_A-T6_B</th>\n",
       "      <th>T4_A-T6_B</th>\n",
       "      <th>Real</th>\n",
       "      <th>Grupo</th>\n",
       "    </tr>\n",
       "  </thead>\n",
       "  <tbody>\n",
       "    <tr>\n",
       "      <th>0</th>\n",
       "      <td>P45AP06A</td>\n",
       "      <td>OA</td>\n",
       "      <td>DL</td>\n",
       "      <td>RNG</td>\n",
       "      <td>-0.095708</td>\n",
       "      <td>-0.121424</td>\n",
       "      <td>-0.259758</td>\n",
       "      <td>0.153414</td>\n",
       "      <td>-0.072931</td>\n",
       "      <td>-0.233470</td>\n",
       "      <td>...</td>\n",
       "      <td>-0.236282</td>\n",
       "      <td>0.127801</td>\n",
       "      <td>-0.099905</td>\n",
       "      <td>-0.207643</td>\n",
       "      <td>0.201685</td>\n",
       "      <td>0.170464</td>\n",
       "      <td>-0.007284</td>\n",
       "      <td>0.171400</td>\n",
       "      <td>0</td>\n",
       "      <td>NaN</td>\n",
       "    </tr>\n",
       "    <tr>\n",
       "      <th>1</th>\n",
       "      <td>P49AP05B</td>\n",
       "      <td>OC</td>\n",
       "      <td>BT</td>\n",
       "      <td>RNG</td>\n",
       "      <td>0.019580</td>\n",
       "      <td>0.074928</td>\n",
       "      <td>0.024767</td>\n",
       "      <td>0.036548</td>\n",
       "      <td>0.022615</td>\n",
       "      <td>0.011710</td>\n",
       "      <td>...</td>\n",
       "      <td>0.076947</td>\n",
       "      <td>0.041179</td>\n",
       "      <td>0.036712</td>\n",
       "      <td>0.037146</td>\n",
       "      <td>-0.008269</td>\n",
       "      <td>0.057509</td>\n",
       "      <td>0.025608</td>\n",
       "      <td>0.046408</td>\n",
       "      <td>0</td>\n",
       "      <td>NaN</td>\n",
       "    </tr>\n",
       "    <tr>\n",
       "      <th>2</th>\n",
       "      <td>P23BP12A</td>\n",
       "      <td>OA</td>\n",
       "      <td>AL1</td>\n",
       "      <td>RNG</td>\n",
       "      <td>-0.008497</td>\n",
       "      <td>0.010717</td>\n",
       "      <td>0.031984</td>\n",
       "      <td>0.060756</td>\n",
       "      <td>0.088743</td>\n",
       "      <td>0.039762</td>\n",
       "      <td>...</td>\n",
       "      <td>-0.059048</td>\n",
       "      <td>-0.093247</td>\n",
       "      <td>0.043968</td>\n",
       "      <td>-0.015890</td>\n",
       "      <td>-0.067589</td>\n",
       "      <td>-0.072553</td>\n",
       "      <td>0.011719</td>\n",
       "      <td>-0.036132</td>\n",
       "      <td>0</td>\n",
       "      <td>NaN</td>\n",
       "    </tr>\n",
       "    <tr>\n",
       "      <th>3</th>\n",
       "      <td>P30AP29A</td>\n",
       "      <td>EX</td>\n",
       "      <td>GM</td>\n",
       "      <td>RNG</td>\n",
       "      <td>0.036709</td>\n",
       "      <td>-0.064211</td>\n",
       "      <td>0.031244</td>\n",
       "      <td>-0.008742</td>\n",
       "      <td>0.011442</td>\n",
       "      <td>0.029332</td>\n",
       "      <td>...</td>\n",
       "      <td>-0.004458</td>\n",
       "      <td>0.009369</td>\n",
       "      <td>0.021101</td>\n",
       "      <td>-0.022216</td>\n",
       "      <td>-0.019958</td>\n",
       "      <td>0.022569</td>\n",
       "      <td>0.079079</td>\n",
       "      <td>0.014921</td>\n",
       "      <td>0</td>\n",
       "      <td>NaN</td>\n",
       "    </tr>\n",
       "    <tr>\n",
       "      <th>4</th>\n",
       "      <td>P45AP06A</td>\n",
       "      <td>EX</td>\n",
       "      <td>AL1</td>\n",
       "      <td>RNG</td>\n",
       "      <td>-0.012331</td>\n",
       "      <td>-0.063642</td>\n",
       "      <td>-0.037821</td>\n",
       "      <td>-0.130401</td>\n",
       "      <td>-0.027398</td>\n",
       "      <td>-0.075162</td>\n",
       "      <td>...</td>\n",
       "      <td>0.051476</td>\n",
       "      <td>0.030653</td>\n",
       "      <td>-0.060470</td>\n",
       "      <td>-0.063573</td>\n",
       "      <td>-0.021255</td>\n",
       "      <td>0.096403</td>\n",
       "      <td>0.129572</td>\n",
       "      <td>-0.022545</td>\n",
       "      <td>0</td>\n",
       "      <td>NaN</td>\n",
       "    </tr>\n",
       "    <tr>\n",
       "      <th>...</th>\n",
       "      <td>...</td>\n",
       "      <td>...</td>\n",
       "      <td>...</td>\n",
       "      <td>...</td>\n",
       "      <td>...</td>\n",
       "      <td>...</td>\n",
       "      <td>...</td>\n",
       "      <td>...</td>\n",
       "      <td>...</td>\n",
       "      <td>...</td>\n",
       "      <td>...</td>\n",
       "      <td>...</td>\n",
       "      <td>...</td>\n",
       "      <td>...</td>\n",
       "      <td>...</td>\n",
       "      <td>...</td>\n",
       "      <td>...</td>\n",
       "      <td>...</td>\n",
       "      <td>...</td>\n",
       "      <td>...</td>\n",
       "      <td>...</td>\n",
       "    </tr>\n",
       "    <tr>\n",
       "      <th>2057</th>\n",
       "      <td>P49</td>\n",
       "      <td>OA</td>\n",
       "      <td>AL1</td>\n",
       "      <td>OR</td>\n",
       "      <td>-0.042097</td>\n",
       "      <td>-0.066911</td>\n",
       "      <td>-0.085687</td>\n",
       "      <td>0.061227</td>\n",
       "      <td>-0.077653</td>\n",
       "      <td>-0.076327</td>\n",
       "      <td>...</td>\n",
       "      <td>0.011351</td>\n",
       "      <td>0.032250</td>\n",
       "      <td>-0.033337</td>\n",
       "      <td>-0.016969</td>\n",
       "      <td>-0.093557</td>\n",
       "      <td>-0.104217</td>\n",
       "      <td>0.035904</td>\n",
       "      <td>0.019803</td>\n",
       "      <td>1</td>\n",
       "      <td>1CN</td>\n",
       "    </tr>\n",
       "    <tr>\n",
       "      <th>2058</th>\n",
       "      <td>P49</td>\n",
       "      <td>OA</td>\n",
       "      <td>AL2</td>\n",
       "      <td>OR</td>\n",
       "      <td>-0.017270</td>\n",
       "      <td>-0.069299</td>\n",
       "      <td>-0.045423</td>\n",
       "      <td>-0.040078</td>\n",
       "      <td>-0.108024</td>\n",
       "      <td>-0.033801</td>\n",
       "      <td>...</td>\n",
       "      <td>0.029906</td>\n",
       "      <td>-0.034814</td>\n",
       "      <td>0.063559</td>\n",
       "      <td>0.013025</td>\n",
       "      <td>-0.025992</td>\n",
       "      <td>-0.010832</td>\n",
       "      <td>-0.022447</td>\n",
       "      <td>-0.117860</td>\n",
       "      <td>1</td>\n",
       "      <td>1CN</td>\n",
       "    </tr>\n",
       "    <tr>\n",
       "      <th>2059</th>\n",
       "      <td>P49</td>\n",
       "      <td>OA</td>\n",
       "      <td>BB</td>\n",
       "      <td>OR</td>\n",
       "      <td>-0.026278</td>\n",
       "      <td>-0.012195</td>\n",
       "      <td>-0.052421</td>\n",
       "      <td>0.057179</td>\n",
       "      <td>-0.057375</td>\n",
       "      <td>-0.088535</td>\n",
       "      <td>...</td>\n",
       "      <td>0.034840</td>\n",
       "      <td>0.028286</td>\n",
       "      <td>-0.057218</td>\n",
       "      <td>0.004108</td>\n",
       "      <td>0.002042</td>\n",
       "      <td>0.002714</td>\n",
       "      <td>0.021608</td>\n",
       "      <td>0.067636</td>\n",
       "      <td>1</td>\n",
       "      <td>1CN</td>\n",
       "    </tr>\n",
       "    <tr>\n",
       "      <th>2060</th>\n",
       "      <td>P49</td>\n",
       "      <td>OA</td>\n",
       "      <td>BT</td>\n",
       "      <td>OR</td>\n",
       "      <td>0.012573</td>\n",
       "      <td>0.034273</td>\n",
       "      <td>-0.034346</td>\n",
       "      <td>0.047830</td>\n",
       "      <td>0.028937</td>\n",
       "      <td>-0.035626</td>\n",
       "      <td>...</td>\n",
       "      <td>-0.013672</td>\n",
       "      <td>0.035719</td>\n",
       "      <td>-0.040003</td>\n",
       "      <td>0.030136</td>\n",
       "      <td>0.014643</td>\n",
       "      <td>-0.001492</td>\n",
       "      <td>0.047521</td>\n",
       "      <td>0.059091</td>\n",
       "      <td>1</td>\n",
       "      <td>1CN</td>\n",
       "    </tr>\n",
       "    <tr>\n",
       "      <th>2061</th>\n",
       "      <td>P49</td>\n",
       "      <td>OA</td>\n",
       "      <td>DL</td>\n",
       "      <td>OR</td>\n",
       "      <td>-0.050387</td>\n",
       "      <td>-0.010622</td>\n",
       "      <td>-0.054229</td>\n",
       "      <td>0.066707</td>\n",
       "      <td>-0.118960</td>\n",
       "      <td>-0.132573</td>\n",
       "      <td>...</td>\n",
       "      <td>0.073623</td>\n",
       "      <td>0.043515</td>\n",
       "      <td>-0.112231</td>\n",
       "      <td>-0.071071</td>\n",
       "      <td>-0.040003</td>\n",
       "      <td>-0.020527</td>\n",
       "      <td>-0.027077</td>\n",
       "      <td>0.196874</td>\n",
       "      <td>1</td>\n",
       "      <td>1CN</td>\n",
       "    </tr>\n",
       "  </tbody>\n",
       "</table>\n",
       "<p>2062 rows × 97 columns</p>\n",
       "</div>"
      ],
      "text/plain": [
       "     Participantes Condicion Banda Tipo  Fp1_A-F3_B  Fp1_A-C3_B  Fp1_A-O1_B  \\\n",
       "0         P45AP06A        OA    DL  RNG   -0.095708   -0.121424   -0.259758   \n",
       "1         P49AP05B        OC    BT  RNG    0.019580    0.074928    0.024767   \n",
       "2         P23BP12A        OA   AL1  RNG   -0.008497    0.010717    0.031984   \n",
       "3         P30AP29A        EX    GM  RNG    0.036709   -0.064211    0.031244   \n",
       "4         P45AP06A        EX   AL1  RNG   -0.012331   -0.063642   -0.037821   \n",
       "...            ...       ...   ...  ...         ...         ...         ...   \n",
       "2057           P49        OA   AL1   OR   -0.042097   -0.066911   -0.085687   \n",
       "2058           P49        OA   AL2   OR   -0.017270   -0.069299   -0.045423   \n",
       "2059           P49        OA    BB   OR   -0.026278   -0.012195   -0.052421   \n",
       "2060           P49        OA    BT   OR    0.012573    0.034273   -0.034346   \n",
       "2061           P49        OA    DL   OR   -0.050387   -0.010622   -0.054229   \n",
       "\n",
       "      Fp1_A-F7_B  Fp1_A-T3_B  Fp1_A-T5_B  ...  C4_A-T4_B  C4_A-T6_B  \\\n",
       "0       0.153414   -0.072931   -0.233470  ...  -0.236282   0.127801   \n",
       "1       0.036548    0.022615    0.011710  ...   0.076947   0.041179   \n",
       "2       0.060756    0.088743    0.039762  ...  -0.059048  -0.093247   \n",
       "3      -0.008742    0.011442    0.029332  ...  -0.004458   0.009369   \n",
       "4      -0.130401   -0.027398   -0.075162  ...   0.051476   0.030653   \n",
       "...          ...         ...         ...  ...        ...        ...   \n",
       "2057    0.061227   -0.077653   -0.076327  ...   0.011351   0.032250   \n",
       "2058   -0.040078   -0.108024   -0.033801  ...   0.029906  -0.034814   \n",
       "2059    0.057179   -0.057375   -0.088535  ...   0.034840   0.028286   \n",
       "2060    0.047830    0.028937   -0.035626  ...  -0.013672   0.035719   \n",
       "2061    0.066707   -0.118960   -0.132573  ...   0.073623   0.043515   \n",
       "\n",
       "      O2_A-F8_B  O2_A-T4_B  O2_A-T6_B  F8_A-T4_B  F8_A-T6_B  T4_A-T6_B  Real  \\\n",
       "0     -0.099905  -0.207643   0.201685   0.170464  -0.007284   0.171400     0   \n",
       "1      0.036712   0.037146  -0.008269   0.057509   0.025608   0.046408     0   \n",
       "2      0.043968  -0.015890  -0.067589  -0.072553   0.011719  -0.036132     0   \n",
       "3      0.021101  -0.022216  -0.019958   0.022569   0.079079   0.014921     0   \n",
       "4     -0.060470  -0.063573  -0.021255   0.096403   0.129572  -0.022545     0   \n",
       "...         ...        ...        ...        ...        ...        ...   ...   \n",
       "2057  -0.033337  -0.016969  -0.093557  -0.104217   0.035904   0.019803     1   \n",
       "2058   0.063559   0.013025  -0.025992  -0.010832  -0.022447  -0.117860     1   \n",
       "2059  -0.057218   0.004108   0.002042   0.002714   0.021608   0.067636     1   \n",
       "2060  -0.040003   0.030136   0.014643  -0.001492   0.047521   0.059091     1   \n",
       "2061  -0.112231  -0.071071  -0.040003  -0.020527  -0.027077   0.196874     1   \n",
       "\n",
       "      Grupo  \n",
       "0       NaN  \n",
       "1       NaN  \n",
       "2       NaN  \n",
       "3       NaN  \n",
       "4       NaN  \n",
       "...     ...  \n",
       "2057    1CN  \n",
       "2058    1CN  \n",
       "2059    1CN  \n",
       "2060    1CN  \n",
       "2061    1CN  \n",
       "\n",
       "[2062 rows x 97 columns]"
      ]
     },
     "metadata": {},
     "output_type": "display_data"
    }
   ],
   "source": [
    "\n",
    "#df_total = pd.concat(list(dfs_Randoms.values()) + list(dfs_Real.values()) , ignore_index=True)\n",
    "\n",
    "df_total = pd.concat([df_Random] + list(dfs_Real.values()), ignore_index=True)\n",
    "#display(df_total)\n",
    "display(df_total)\n",
    "y = df_total['Real']\n",
    "X = df_total.drop(columns=['Real','Tipo','Condicion','Banda','Participantes','Grupo'])\n",
    "X_train, X_test, y_train, y_test = train_test_split(X, y, test_size=0.2)\n",
    "\n",
    "\n",
    "logistic_model = LogisticRegression()"
   ]
  },
  {
   "cell_type": "code",
   "execution_count": 109,
   "id": "48dcebda",
   "metadata": {},
   "outputs": [
    {
     "name": "stdout",
     "output_type": "stream",
     "text": [
      "Exactitud: 0.48184019370460046\n",
      "Matriz de Confusion :\n",
      " [[178  40]\n",
      " [174  21]]\n",
      "cross val score: [0.45520581 0.46489104 0.51699029 0.51213592 0.5631068 ]\n"
     ]
    },
    {
     "data": {
      "text/plain": [
       "Text(66.25, 0.5, 'Actual')"
      ]
     },
     "execution_count": 109,
     "metadata": {},
     "output_type": "execute_result"
    },
    {
     "data": {
      "image/png": "[encoded data removed]",
      "text/plain": [
       "<Figure size 800x600 with 2 Axes>"
      ]
     },
     "metadata": {},
     "output_type": "display_data"
    }
   ],
   "source": [
    "from sklearn.model_selection import cross_val_score\n",
    "\n",
    "logistic_model.fit(X_train, y_train)\n",
    "y_pred = logistic_model.predict(X_test)\n",
    "\n",
    "print(\"Exactitud:\", accuracy_score(y_test, y_pred))\n",
    "print(\"Matriz de Confusion :\\n\", confusion_matrix(y_test, y_pred))\n",
    "print(f\"cross val score: {cross_val_score(logistic_model, X, y, cv=5)}\")\n",
    "\n",
    "# Visualizar la matriz de confusión\n",
    "cm = confusion_matrix(y_test, y_pred)\n",
    "plt.figure(figsize=(8, 6))\n",
    "sns.heatmap(cm, annot=True, fmt='d', cmap='Blues', xticklabels=['1', '0'], yticklabels=['1', '0']) # verificar las etiquetas\n",
    "plt.title('Matriz Confusion')\n",
    "plt.xlabel('Predicted')\n",
    "plt.ylabel('Actual')"
   ]
  },
  {
   "cell_type": "markdown",
   "id": "76d9f0d8",
   "metadata": {},
   "source": [
    "### Armar modelos de regresión logística para cada Banda\n"
   ]
  },
  {
   "cell_type": "code",
   "execution_count": 111,
   "id": "3da48aec",
   "metadata": {},
   "outputs": [
    {
     "name": "stdout",
     "output_type": "stream",
     "text": [
      "Banda: DL\n",
      "Accuracy: 0.4423076923076923\n",
      "cross val score: 0.502262443438914\n",
      "\n",
      "\n",
      "Banda: BT\n",
      "Accuracy: 0.43103448275862066\n",
      "cross val score: 0.4776164549304294\n",
      "\n",
      "\n",
      "Banda: AL1\n",
      "Accuracy: 0.43636363636363634\n",
      "cross val score: 0.45259259259259255\n",
      "\n",
      "\n",
      "Banda: GM\n",
      "Accuracy: 0.38181818181818183\n",
      "cross val score: 0.4762962962962963\n",
      "\n",
      "\n",
      "Banda: AL2\n",
      "Accuracy: 0.4230769230769231\n",
      "cross val score: 0.4226998491704374\n",
      "\n",
      "\n",
      "Banda: TH\n",
      "Accuracy: 0.66\n",
      "cross val score: 0.5885714285714285\n",
      "\n",
      "\n",
      "Banda: GM2\n",
      "Accuracy: 0.6170212765957447\n",
      "cross val score: 0.5836262719703977\n",
      "\n",
      "\n",
      "Banda: BB\n",
      "Accuracy: 0.6521739130434783\n",
      "cross val score: 0.6025120772946859\n",
      "\n",
      "\n"
     ]
    },
    {
     "data": {
      "image/png": "[encoded data removed]",
      "text/plain": [
       "<Figure size 800x600 with 2 Axes>"
      ]
     },
     "metadata": {},
     "output_type": "display_data"
    },
    {
     "data": {
      "image/png": "[encoded data removed]",
      "text/plain": [
       "<Figure size 800x600 with 2 Axes>"
      ]
     },
     "metadata": {},
     "output_type": "display_data"
    },
    {
     "data": {
      "image/png": "[encoded data removed]",
      "text/plain": [
       "<Figure size 800x600 with 2 Axes>"
      ]
     },
     "metadata": {},
     "output_type": "display_data"
    },
    {
     "data": {
      "image/png": "[encoded data removed]",
      "text/plain": [
       "<Figure size 800x600 with 2 Axes>"
      ]
     },
     "metadata": {},
     "output_type": "display_data"
    },
    {
     "data": {
      "image/png": "[encoded data removed]",
      "text/plain": [
       "<Figure size 800x600 with 2 Axes>"
      ]
     },
     "metadata": {},
     "output_type": "display_data"
    },
    {
     "data": {
      "image/png": "[encoded data removed]",
      "text/plain": [
       "<Figure size 800x600 with 2 Axes>"
      ]
     },
     "metadata": {},
     "output_type": "display_data"
    },
    {
     "data": {
      "image/png": "[encoded data removed]",
      "text/plain": [
       "<Figure size 800x600 with 2 Axes>"
      ]
     },
     "metadata": {},
     "output_type": "display_data"
    },
    {
     "data": {
      "image/png": "[encoded data removed]",
      "text/plain": [
       "<Figure size 800x600 with 2 Axes>"
      ]
     },
     "metadata": {},
     "output_type": "display_data"
    }
   ],
   "source": [
    "\n",
    "lista_de_bandas = df_total['Banda'].unique()\n",
    "#display(df_total.loc[df_total['Banda'] == 'AL2'])\n",
    "lista_de_bandas = lista_de_bandas[:-1] # Excluir 'ALI(1)' de la lista, eliminando el ultimo elemote de la lista\n",
    "for banda in lista_de_bandas:\n",
    "    df_banda = df_total[df_total['Banda'] == banda]\n",
    "    y_banda = df_banda['Real']\n",
    "    X_banda = df_banda.drop(columns=['Real','Tipo','Condicion','Banda','Participantes','Grupo'])\n",
    "    X_train_banda, X_test_banda, y_train_banda, y_test_banda = train_test_split(X_banda, y_banda, test_size=0.2)\n",
    "    \n",
    "    logistic_model.fit(X_train_banda, y_train_banda)\n",
    "    y_pred_banda = logistic_model.predict(X_test_banda)\n",
    "    \n",
    "    print(f\"Banda: {banda}\")\n",
    "    print(\"Accuracy:\", accuracy_score(y_test_banda, y_pred_banda))\n",
    "    print(f\"cross val score: {cross_val_score(logistic_model, X_banda, y_banda, cv=5).mean()}\")\n",
    "    print(\"\\n\")\n",
    "    cm = confusion_matrix(y_test_banda, y_pred_banda)\n",
    "    plt.figure(figsize=(8, 6))\n",
    "    sns.heatmap(cm, annot=True, fmt='d', cmap='Blues', xticklabels=['1', '0'], yticklabels=['1', '0']) # verificar las etiquetas\n",
    "    plt.title(f'Matriz Confusionde para Banda: {banda}')\n",
    "    plt.xlabel('Predicted')\n",
    "    plt.ylabel('Actual')"
   ]
  },
  {
   "cell_type": "markdown",
   "id": "4f9d27b5",
   "metadata": {},
   "source": [
    "### Hacer modelos de regresion logistica por condicion de los EEG: EX,OA,OC"
   ]
  },
  {
   "cell_type": "code",
   "execution_count": 112,
   "id": "b33e7379",
   "metadata": {},
   "outputs": [
    {
     "name": "stdout",
     "output_type": "stream",
     "text": [
      "Condición: OA\n",
      "Accuracy: 0.5853658536585366\n",
      "cross val score: 0.502465972401796\n",
      "\n",
      "\n",
      "Condición: OC\n",
      "Accuracy: 0.5144927536231884\n",
      "cross val score: 0.502465972401796\n",
      "\n",
      "\n",
      "Condición: EX\n",
      "Accuracy: 0.43137254901960786\n",
      "cross val score: 0.502465972401796\n",
      "\n",
      "\n"
     ]
    },
    {
     "data": {
      "image/png": "[encoded data removed]",
      "text/plain": [
       "<Figure size 800x600 with 2 Axes>"
      ]
     },
     "metadata": {},
     "output_type": "display_data"
    },
    {
     "data": {
      "image/png": "[encoded data removed]",
      "text/plain": [
       "<Figure size 800x600 with 2 Axes>"
      ]
     },
     "metadata": {},
     "output_type": "display_data"
    },
    {
     "data": {
      "image/png": "[encoded data removed]",
      "text/plain": [
       "<Figure size 800x600 with 2 Axes>"
      ]
     },
     "metadata": {},
     "output_type": "display_data"
    }
   ],
   "source": [
    "\n",
    "lista_de_condiciones = df_total['Condicion'].unique()\n",
    "for condicion in lista_de_condiciones:\n",
    "    df_condicion = df_total[df_total['Condicion'] == condicion]\n",
    "    y_condicion = df_condicion['Real']\n",
    "    X_condicion = df_condicion.drop(columns=['Real','Tipo','Condicion','Banda','Participantes','Grupo'])\n",
    "    X_train_condicion, X_test_condicion, y_train_condicion, y_test_condicion = train_test_split(X_condicion, y_condicion, test_size=0.2)\n",
    "    \n",
    "    logistic_model.fit(X_train_condicion, y_train_condicion)\n",
    "    y_pred_condicion = logistic_model.predict(X_test_condicion)\n",
    "    \n",
    "    print(f\"Condición: {condicion}\")\n",
    "    print(\"Accuracy:\", accuracy_score(y_test_condicion, y_pred_condicion))\n",
    "    print(f\"cross val score: {cross_val_score(logistic_model, X, y, cv=5).mean()}\")\n",
    "\n",
    "    print(\"\\n\")\n",
    "    cm = confusion_matrix(y_test_condicion, y_pred_condicion)\n",
    "    plt.figure(figsize=(8, 6))\n",
    "    sns.heatmap(cm, annot=True, fmt='d', cmap='Blues', xticklabels=['1', '0'], yticklabels=['1', '0']) # verificar las etiquetas\n",
    "    plt.title(f'Matriz Confusionde para Condición: {condicion}')\n",
    "    plt.xlabel('Predicted')\n",
    "    plt.ylabel('Actual')"
   ]
  },
  {
   "cell_type": "markdown",
   "id": "e1c847f2",
   "metadata": {},
   "source": [
    "## Empezar modelos de SVM\n",
    "\n",
    "##### Empezar por todo junto"
   ]
  },
  {
   "cell_type": "code",
   "execution_count": 133,
   "id": "dbb20a39",
   "metadata": {},
   "outputs": [
    {
     "name": "stdout",
     "output_type": "stream",
     "text": [
      "Cantidad de parejas reales: 923\n",
      "Cantidad de parejas random: 1139\n",
      "Cantidad de parejas totales: 2062\n",
      "Cantidad de parejas reales en entrenamiento: 716\n",
      "Cantidad de parejas random en entrenamiento: 933\n",
      "Cantidad de parejas reales en test: 207\n",
      "Cantidad de parejas random en test: 206\n",
      "Exactitud SVM: 0.6319612590799032\n",
      "Matriz de Confusion SVM:\n",
      " [[ 82 124]\n",
      " [ 28 179]]\n"
     ]
    },
    {
     "data": {
      "text/plain": [
       "Text(66.25, 0.5, 'Actual')"
      ]
     },
     "execution_count": 133,
     "metadata": {},
     "output_type": "execute_result"
    },
    {
     "data": {
      "image/png": "[encoded data removed]",
      "text/plain": [
       "<Figure size 800x600 with 2 Axes>"
      ]
     },
     "metadata": {},
     "output_type": "display_data"
    }
   ],
   "source": [
    "from sklearn.svm import SVC\n",
    "\n",
    "svm_model = SVC(kernel='poly', degree=2)\n",
    "\n",
    "y = df_total['Real']\n",
    "X = df_total.drop(columns=['Real','Tipo','Condicion','Banda','Participantes','Grupo'])\n",
    "X_train, X_test, y_train, y_test = train_test_split(X, y, test_size=0.2)\n",
    "\n",
    "parejas_reales = df_total[df_total['Real'] == 1]\n",
    "parejas_random = df_total[df_total['Real'] == 0]\n",
    "print(\"Cantidad de parejas reales:\", len(parejas_reales))\n",
    "print(\"Cantidad de parejas random:\", len(parejas_random))\n",
    "print(\"Cantidad de parejas totales:\", len(df_total))\n",
    "print(\"Cantidad de parejas reales en entrenamiento:\", len(y_train[y_train == 1]))\n",
    "print(\"Cantidad de parejas random en entrenamiento:\", len(y_train[y_train == 0]))\n",
    "print(\"Cantidad de parejas reales en test:\", len(y_test[y_test == 1]))\n",
    "print(\"Cantidad de parejas random en test:\", len(y_test[y_test == 0]))\n",
    "svm_model.fit(X_train,y_train)\n",
    "\n",
    "y_pred_svm = svm_model.predict(X_test)\n",
    "print(\"Exactitud SVM:\", accuracy_score(y_test, y_pred_svm))\n",
    "print(\"Matriz de Confusion SVM:\\n\", confusion_matrix(y_test, y_pred_svm))\n",
    "# Visualizar la matriz de confusión SVM\n",
    "cm_svm = confusion_matrix(y_test, y_pred_svm)\n",
    "plt.figure(figsize=(8, 6))\n",
    "sns.heatmap(cm_svm, annot=True, fmt='d', cmap='Blues', xticklabels=['1', '0'], yticklabels=['1', '0']) # verificar las etiquetas\n",
    "plt.title('Matriz Confusion SVM')\n",
    "plt.xlabel('Predicted')\n",
    "plt.ylabel('Actual')\n"
   ]
  },
  {
   "cell_type": "markdown",
   "id": "ad1c7d99",
   "metadata": {},
   "source": [
    "# SOM\n",
    "\n",
    "Concatenar las bandas para cada sujeto, para que quede solo una fila por participante"
   ]
  },
  {
   "cell_type": "code",
   "execution_count": null,
   "id": "cb63befe",
   "metadata": {},
   "outputs": [
    {
     "data": {
      "text/plain": [
       "244"
      ]
     },
     "metadata": {},
     "output_type": "display_data"
    },
    {
     "data": {
      "text/plain": [
       "20"
      ]
     },
     "metadata": {},
     "output_type": "display_data"
    },
    {
     "data": {
      "text/plain": [
       "18"
      ]
     },
     "metadata": {},
     "output_type": "display_data"
    },
    {
     "data": {
      "text/plain": [
       "10"
      ]
     },
     "metadata": {},
     "output_type": "display_data"
    },
    {
     "data": {
      "text/plain": [
       "8"
      ]
     },
     "metadata": {},
     "output_type": "display_data"
    },
    {
     "data": {
      "text/plain": [
       "6"
      ]
     },
     "metadata": {},
     "output_type": "display_data"
    },
    {
     "data": {
      "text/plain": [
       "14"
      ]
     },
     "metadata": {},
     "output_type": "display_data"
    },
    {
     "data": {
      "text/plain": [
       "14"
      ]
     },
     "metadata": {},
     "output_type": "display_data"
    },
    {
     "data": {
      "text/plain": [
       "18"
      ]
     },
     "metadata": {},
     "output_type": "display_data"
    },
    {
     "data": {
      "text/plain": [
       "10"
      ]
     },
     "metadata": {},
     "output_type": "display_data"
    },
    {
     "data": {
      "text/plain": [
       "8"
      ]
     },
     "metadata": {},
     "output_type": "display_data"
    },
    {
     "data": {
      "text/plain": [
       "14"
      ]
     },
     "metadata": {},
     "output_type": "display_data"
    },
    {
     "data": {
      "text/plain": [
       "16"
      ]
     },
     "metadata": {},
     "output_type": "display_data"
    },
    {
     "data": {
      "text/plain": [
       "12"
      ]
     },
     "metadata": {},
     "output_type": "display_data"
    },
    {
     "data": {
      "text/plain": [
       "20"
      ]
     },
     "metadata": {},
     "output_type": "display_data"
    },
    {
     "data": {
      "text/plain": [
       "18"
      ]
     },
     "metadata": {},
     "output_type": "display_data"
    },
    {
     "data": {
      "text/plain": [
       "10"
      ]
     },
     "metadata": {},
     "output_type": "display_data"
    },
    {
     "data": {
      "text/plain": [
       "18"
      ]
     },
     "metadata": {},
     "output_type": "display_data"
    },
    {
     "data": {
      "text/plain": [
       "14"
      ]
     },
     "metadata": {},
     "output_type": "display_data"
    },
    {
     "data": {
      "text/plain": [
       "12"
      ]
     },
     "metadata": {},
     "output_type": "display_data"
    },
    {
     "data": {
      "text/plain": [
       "10"
      ]
     },
     "metadata": {},
     "output_type": "display_data"
    },
    {
     "data": {
      "text/plain": [
       "14"
      ]
     },
     "metadata": {},
     "output_type": "display_data"
    },
    {
     "data": {
      "text/plain": [
       "20"
      ]
     },
     "metadata": {},
     "output_type": "display_data"
    },
    {
     "data": {
      "text/plain": [
       "10"
      ]
     },
     "metadata": {},
     "output_type": "display_data"
    },
    {
     "data": {
      "text/plain": [
       "18"
      ]
     },
     "metadata": {},
     "output_type": "display_data"
    },
    {
     "data": {
      "text/plain": [
       "20"
      ]
     },
     "metadata": {},
     "output_type": "display_data"
    },
    {
     "data": {
      "text/plain": [
       "12"
      ]
     },
     "metadata": {},
     "output_type": "display_data"
    },
    {
     "data": {
      "text/plain": [
       "8"
      ]
     },
     "metadata": {},
     "output_type": "display_data"
    },
    {
     "data": {
      "text/plain": [
       "18"
      ]
     },
     "metadata": {},
     "output_type": "display_data"
    },
    {
     "data": {
      "text/plain": [
       "18"
      ]
     },
     "metadata": {},
     "output_type": "display_data"
    },
    {
     "data": {
      "text/plain": [
       "6"
      ]
     },
     "metadata": {},
     "output_type": "display_data"
    },
    {
     "data": {
      "text/plain": [
       "10"
      ]
     },
     "metadata": {},
     "output_type": "display_data"
    },
    {
     "data": {
      "text/plain": [
       "12"
      ]
     },
     "metadata": {},
     "output_type": "display_data"
    },
    {
     "data": {
      "text/plain": [
       "12"
      ]
     },
     "metadata": {},
     "output_type": "display_data"
    },
    {
     "data": {
      "text/plain": [
       "14"
      ]
     },
     "metadata": {},
     "output_type": "display_data"
    },
    {
     "data": {
      "text/plain": [
       "18"
      ]
     },
     "metadata": {},
     "output_type": "display_data"
    },
    {
     "data": {
      "text/plain": [
       "16"
      ]
     },
     "metadata": {},
     "output_type": "display_data"
    },
    {
     "data": {
      "text/plain": [
       "22"
      ]
     },
     "metadata": {},
     "output_type": "display_data"
    },
    {
     "data": {
      "text/plain": [
       "10"
      ]
     },
     "metadata": {},
     "output_type": "display_data"
    },
    {
     "data": {
      "text/plain": [
       "14"
      ]
     },
     "metadata": {},
     "output_type": "display_data"
    },
    {
     "data": {
      "text/plain": [
       "12"
      ]
     },
     "metadata": {},
     "output_type": "display_data"
    },
    {
     "data": {
      "text/plain": [
       "14"
      ]
     },
     "metadata": {},
     "output_type": "display_data"
    },
    {
     "data": {
      "text/plain": [
       "14"
      ]
     },
     "metadata": {},
     "output_type": "display_data"
    },
    {
     "data": {
      "text/plain": [
       "18"
      ]
     },
     "metadata": {},
     "output_type": "display_data"
    },
    {
     "data": {
      "text/plain": [
       "18"
      ]
     },
     "metadata": {},
     "output_type": "display_data"
    },
    {
     "data": {
      "text/plain": [
       "12"
      ]
     },
     "metadata": {},
     "output_type": "display_data"
    },
    {
     "data": {
      "text/plain": [
       "12"
      ]
     },
     "metadata": {},
     "output_type": "display_data"
    },
    {
     "data": {
      "text/plain": [
       "8"
      ]
     },
     "metadata": {},
     "output_type": "display_data"
    },
    {
     "data": {
      "text/plain": [
       "12"
      ]
     },
     "metadata": {},
     "output_type": "display_data"
    },
    {
     "data": {
      "text/plain": [
       "4"
      ]
     },
     "metadata": {},
     "output_type": "display_data"
    },
    {
     "data": {
      "text/plain": [
       "10"
      ]
     },
     "metadata": {},
     "output_type": "display_data"
    },
    {
     "data": {
      "text/plain": [
       "10"
      ]
     },
     "metadata": {},
     "output_type": "display_data"
    },
    {
     "data": {
      "text/plain": [
       "10"
      ]
     },
     "metadata": {},
     "output_type": "display_data"
    },
    {
     "data": {
      "text/plain": [
       "14"
      ]
     },
     "metadata": {},
     "output_type": "display_data"
    },
    {
     "data": {
      "text/plain": [
       "10"
      ]
     },
     "metadata": {},
     "output_type": "display_data"
    },
    {
     "data": {
      "text/plain": [
       "20"
      ]
     },
     "metadata": {},
     "output_type": "display_data"
    },
    {
     "data": {
      "text/plain": [
       "8"
      ]
     },
     "metadata": {},
     "output_type": "display_data"
    },
    {
     "data": {
      "text/plain": [
       "12"
      ]
     },
     "metadata": {},
     "output_type": "display_data"
    },
    {
     "data": {
      "text/plain": [
       "12"
      ]
     },
     "metadata": {},
     "output_type": "display_data"
    },
    {
     "data": {
      "text/plain": [
       "18"
      ]
     },
     "metadata": {},
     "output_type": "display_data"
    },
    {
     "data": {
      "text/plain": [
       "12"
      ]
     },
     "metadata": {},
     "output_type": "display_data"
    },
    {
     "data": {
      "text/plain": [
       "16"
      ]
     },
     "metadata": {},
     "output_type": "display_data"
    },
    {
     "data": {
      "text/plain": [
       "12"
      ]
     },
     "metadata": {},
     "output_type": "display_data"
    },
    {
     "data": {
      "text/plain": [
       "12"
      ]
     },
     "metadata": {},
     "output_type": "display_data"
    },
    {
     "data": {
      "text/plain": [
       "10"
      ]
     },
     "metadata": {},
     "output_type": "display_data"
    },
    {
     "data": {
      "text/plain": [
       "16"
      ]
     },
     "metadata": {},
     "output_type": "display_data"
    },
    {
     "data": {
      "text/plain": [
       "4"
      ]
     },
     "metadata": {},
     "output_type": "display_data"
    },
    {
     "data": {
      "text/plain": [
       "6"
      ]
     },
     "metadata": {},
     "output_type": "display_data"
    },
    {
     "data": {
      "text/plain": [
       "4"
      ]
     },
     "metadata": {},
     "output_type": "display_data"
    },
    {
     "data": {
      "text/plain": [
       "10"
      ]
     },
     "metadata": {},
     "output_type": "display_data"
    },
    {
     "data": {
      "text/plain": [
       "16"
      ]
     },
     "metadata": {},
     "output_type": "display_data"
    },
    {
     "data": {
      "text/plain": [
       "14"
      ]
     },
     "metadata": {},
     "output_type": "display_data"
    },
    {
     "data": {
      "text/plain": [
       "8"
      ]
     },
     "metadata": {},
     "output_type": "display_data"
    },
    {
     "data": {
      "text/plain": [
       "12"
      ]
     },
     "metadata": {},
     "output_type": "display_data"
    },
    {
     "data": {
      "text/plain": [
       "14"
      ]
     },
     "metadata": {},
     "output_type": "display_data"
    },
    {
     "data": {
      "text/plain": [
       "20"
      ]
     },
     "metadata": {},
     "output_type": "display_data"
    },
    {
     "data": {
      "text/plain": [
       "12"
      ]
     },
     "metadata": {},
     "output_type": "display_data"
    },
    {
     "data": {
      "text/plain": [
       "16"
      ]
     },
     "metadata": {},
     "output_type": "display_data"
    },
    {
     "data": {
      "text/plain": [
       "16"
      ]
     },
     "metadata": {},
     "output_type": "display_data"
    },
    {
     "data": {
      "text/plain": [
       "14"
      ]
     },
     "metadata": {},
     "output_type": "display_data"
    },
    {
     "data": {
      "text/plain": [
       "14"
      ]
     },
     "metadata": {},
     "output_type": "display_data"
    },
    {
     "data": {
      "text/plain": [
       "14"
      ]
     },
     "metadata": {},
     "output_type": "display_data"
    },
    {
     "data": {
      "text/plain": [
       "6"
      ]
     },
     "metadata": {},
     "output_type": "display_data"
    },
    {
     "data": {
      "text/plain": [
       "12"
      ]
     },
     "metadata": {},
     "output_type": "display_data"
    },
    {
     "data": {
      "text/plain": [
       "14"
      ]
     },
     "metadata": {},
     "output_type": "display_data"
    },
    {
     "data": {
      "text/plain": [
       "14"
      ]
     },
     "metadata": {},
     "output_type": "display_data"
    },
    {
     "data": {
      "text/plain": [
       "16"
      ]
     },
     "metadata": {},
     "output_type": "display_data"
    },
    {
     "data": {
      "text/plain": [
       "4"
      ]
     },
     "metadata": {},
     "output_type": "display_data"
    },
    {
     "data": {
      "text/plain": [
       "14"
      ]
     },
     "metadata": {},
     "output_type": "display_data"
    },
    {
     "data": {
      "text/plain": [
       "18"
      ]
     },
     "metadata": {},
     "output_type": "display_data"
    },
    {
     "data": {
      "text/plain": [
       "10"
      ]
     },
     "metadata": {},
     "output_type": "display_data"
    },
    {
     "data": {
      "text/plain": [
       "6"
      ]
     },
     "metadata": {},
     "output_type": "display_data"
    },
    {
     "data": {
      "text/plain": [
       "16"
      ]
     },
     "metadata": {},
     "output_type": "display_data"
    },
    {
     "data": {
      "text/plain": [
       "16"
      ]
     },
     "metadata": {},
     "output_type": "display_data"
    },
    {
     "data": {
      "text/plain": [
       "12"
      ]
     },
     "metadata": {},
     "output_type": "display_data"
    },
    {
     "data": {
      "text/plain": [
       "12"
      ]
     },
     "metadata": {},
     "output_type": "display_data"
    },
    {
     "data": {
      "text/plain": [
       "18"
      ]
     },
     "metadata": {},
     "output_type": "display_data"
    },
    {
     "data": {
      "text/plain": [
       "4"
      ]
     },
     "metadata": {},
     "output_type": "display_data"
    },
    {
     "data": {
      "text/plain": [
       "16"
      ]
     },
     "metadata": {},
     "output_type": "display_data"
    },
    {
     "data": {
      "text/plain": [
       "24"
      ]
     },
     "metadata": {},
     "output_type": "display_data"
    },
    {
     "data": {
      "text/plain": [
       "18"
      ]
     },
     "metadata": {},
     "output_type": "display_data"
    },
    {
     "data": {
      "text/plain": [
       "10"
      ]
     },
     "metadata": {},
     "output_type": "display_data"
    },
    {
     "data": {
      "text/plain": [
       "10"
      ]
     },
     "metadata": {},
     "output_type": "display_data"
    },
    {
     "data": {
      "text/plain": [
       "10"
      ]
     },
     "metadata": {},
     "output_type": "display_data"
    },
    {
     "data": {
      "text/plain": [
       "12"
      ]
     },
     "metadata": {},
     "output_type": "display_data"
    },
    {
     "data": {
      "text/plain": [
       "6"
      ]
     },
     "metadata": {},
     "output_type": "display_data"
    },
    {
     "data": {
      "text/plain": [
       "8"
      ]
     },
     "metadata": {},
     "output_type": "display_data"
    },
    {
     "data": {
      "text/plain": [
       "10"
      ]
     },
     "metadata": {},
     "output_type": "display_data"
    },
    {
     "data": {
      "text/plain": [
       "6"
      ]
     },
     "metadata": {},
     "output_type": "display_data"
    },
    {
     "data": {
      "text/plain": [
       "14"
      ]
     },
     "metadata": {},
     "output_type": "display_data"
    },
    {
     "data": {
      "text/plain": [
       "4"
      ]
     },
     "metadata": {},
     "output_type": "display_data"
    },
    {
     "data": {
      "text/plain": [
       "10"
      ]
     },
     "metadata": {},
     "output_type": "display_data"
    },
    {
     "data": {
      "text/plain": [
       "6"
      ]
     },
     "metadata": {},
     "output_type": "display_data"
    },
    {
     "data": {
      "text/plain": [
       "4"
      ]
     },
     "metadata": {},
     "output_type": "display_data"
    },
    {
     "data": {
      "text/plain": [
       "12"
      ]
     },
     "metadata": {},
     "output_type": "display_data"
    },
    {
     "data": {
      "text/plain": [
       "20"
      ]
     },
     "metadata": {},
     "output_type": "display_data"
    },
    {
     "data": {
      "text/plain": [
       "16"
      ]
     },
     "metadata": {},
     "output_type": "display_data"
    },
    {
     "data": {
      "text/plain": [
       "10"
      ]
     },
     "metadata": {},
     "output_type": "display_data"
    },
    {
     "data": {
      "text/plain": [
       "16"
      ]
     },
     "metadata": {},
     "output_type": "display_data"
    },
    {
     "data": {
      "text/plain": [
       "6"
      ]
     },
     "metadata": {},
     "output_type": "display_data"
    },
    {
     "data": {
      "text/plain": [
       "12"
      ]
     },
     "metadata": {},
     "output_type": "display_data"
    },
    {
     "data": {
      "text/plain": [
       "10"
      ]
     },
     "metadata": {},
     "output_type": "display_data"
    },
    {
     "data": {
      "text/plain": [
       "16"
      ]
     },
     "metadata": {},
     "output_type": "display_data"
    },
    {
     "data": {
      "text/plain": [
       "10"
      ]
     },
     "metadata": {},
     "output_type": "display_data"
    },
    {
     "data": {
      "text/plain": [
       "18"
      ]
     },
     "metadata": {},
     "output_type": "display_data"
    },
    {
     "data": {
      "text/plain": [
       "10"
      ]
     },
     "metadata": {},
     "output_type": "display_data"
    },
    {
     "data": {
      "text/plain": [
       "10"
      ]
     },
     "metadata": {},
     "output_type": "display_data"
    },
    {
     "data": {
      "text/plain": [
       "10"
      ]
     },
     "metadata": {},
     "output_type": "display_data"
    },
    {
     "data": {
      "text/plain": [
       "14"
      ]
     },
     "metadata": {},
     "output_type": "display_data"
    },
    {
     "data": {
      "text/plain": [
       "12"
      ]
     },
     "metadata": {},
     "output_type": "display_data"
    },
    {
     "data": {
      "text/plain": [
       "6"
      ]
     },
     "metadata": {},
     "output_type": "display_data"
    },
    {
     "data": {
      "text/plain": [
       "12"
      ]
     },
     "metadata": {},
     "output_type": "display_data"
    },
    {
     "data": {
      "text/plain": [
       "10"
      ]
     },
     "metadata": {},
     "output_type": "display_data"
    },
    {
     "data": {
      "text/plain": [
       "8"
      ]
     },
     "metadata": {},
     "output_type": "display_data"
    },
    {
     "data": {
      "text/plain": [
       "14"
      ]
     },
     "metadata": {},
     "output_type": "display_data"
    },
    {
     "data": {
      "text/plain": [
       "10"
      ]
     },
     "metadata": {},
     "output_type": "display_data"
    },
    {
     "data": {
      "text/plain": [
       "10"
      ]
     },
     "metadata": {},
     "output_type": "display_data"
    },
    {
     "data": {
      "text/plain": [
       "10"
      ]
     },
     "metadata": {},
     "output_type": "display_data"
    },
    {
     "data": {
      "text/plain": [
       "10"
      ]
     },
     "metadata": {},
     "output_type": "display_data"
    },
    {
     "data": {
      "text/plain": [
       "4"
      ]
     },
     "metadata": {},
     "output_type": "display_data"
    },
    {
     "data": {
      "text/plain": [
       "14"
      ]
     },
     "metadata": {},
     "output_type": "display_data"
    },
    {
     "data": {
      "text/plain": [
       "6"
      ]
     },
     "metadata": {},
     "output_type": "display_data"
    },
    {
     "data": {
      "text/plain": [
       "22"
      ]
     },
     "metadata": {},
     "output_type": "display_data"
    },
    {
     "data": {
      "text/plain": [
       "12"
      ]
     },
     "metadata": {},
     "output_type": "display_data"
    },
    {
     "data": {
      "text/plain": [
       "12"
      ]
     },
     "metadata": {},
     "output_type": "display_data"
    },
    {
     "data": {
      "text/plain": [
       "14"
      ]
     },
     "metadata": {},
     "output_type": "display_data"
    },
    {
     "data": {
      "text/plain": [
       "16"
      ]
     },
     "metadata": {},
     "output_type": "display_data"
    },
    {
     "data": {
      "text/plain": [
       "12"
      ]
     },
     "metadata": {},
     "output_type": "display_data"
    },
    {
     "data": {
      "text/plain": [
       "8"
      ]
     },
     "metadata": {},
     "output_type": "display_data"
    },
    {
     "data": {
      "text/plain": [
       "12"
      ]
     },
     "metadata": {},
     "output_type": "display_data"
    },
    {
     "data": {
      "text/plain": [
       "6"
      ]
     },
     "metadata": {},
     "output_type": "display_data"
    },
    {
     "data": {
      "text/plain": [
       "16"
      ]
     },
     "metadata": {},
     "output_type": "display_data"
    },
    {
     "data": {
      "text/plain": [
       "18"
      ]
     },
     "metadata": {},
     "output_type": "display_data"
    },
    {
     "data": {
      "text/plain": [
       "8"
      ]
     },
     "metadata": {},
     "output_type": "display_data"
    },
    {
     "data": {
      "text/plain": [
       "10"
      ]
     },
     "metadata": {},
     "output_type": "display_data"
    },
    {
     "data": {
      "text/plain": [
       "12"
      ]
     },
     "metadata": {},
     "output_type": "display_data"
    },
    {
     "data": {
      "text/plain": [
       "8"
      ]
     },
     "metadata": {},
     "output_type": "display_data"
    },
    {
     "data": {
      "text/plain": [
       "8"
      ]
     },
     "metadata": {},
     "output_type": "display_data"
    },
    {
     "data": {
      "text/plain": [
       "8"
      ]
     },
     "metadata": {},
     "output_type": "display_data"
    },
    {
     "data": {
      "text/plain": [
       "16"
      ]
     },
     "metadata": {},
     "output_type": "display_data"
    },
    {
     "data": {
      "text/plain": [
       "14"
      ]
     },
     "metadata": {},
     "output_type": "display_data"
    },
    {
     "data": {
      "text/plain": [
       "10"
      ]
     },
     "metadata": {},
     "output_type": "display_data"
    },
    {
     "data": {
      "text/plain": [
       "6"
      ]
     },
     "metadata": {},
     "output_type": "display_data"
    },
    {
     "data": {
      "text/plain": [
       "10"
      ]
     },
     "metadata": {},
     "output_type": "display_data"
    },
    {
     "data": {
      "text/plain": [
       "6"
      ]
     },
     "metadata": {},
     "output_type": "display_data"
    },
    {
     "data": {
      "text/plain": [
       "6"
      ]
     },
     "metadata": {},
     "output_type": "display_data"
    },
    {
     "data": {
      "text/plain": [
       "10"
      ]
     },
     "metadata": {},
     "output_type": "display_data"
    },
    {
     "data": {
      "text/plain": [
       "8"
      ]
     },
     "metadata": {},
     "output_type": "display_data"
    },
    {
     "data": {
      "text/plain": [
       "10"
      ]
     },
     "metadata": {},
     "output_type": "display_data"
    },
    {
     "data": {
      "text/plain": [
       "16"
      ]
     },
     "metadata": {},
     "output_type": "display_data"
    },
    {
     "data": {
      "text/plain": [
       "16"
      ]
     },
     "metadata": {},
     "output_type": "display_data"
    },
    {
     "data": {
      "text/plain": [
       "18"
      ]
     },
     "metadata": {},
     "output_type": "display_data"
    },
    {
     "data": {
      "text/plain": [
       "14"
      ]
     },
     "metadata": {},
     "output_type": "display_data"
    },
    {
     "data": {
      "text/plain": [
       "4"
      ]
     },
     "metadata": {},
     "output_type": "display_data"
    },
    {
     "data": {
      "text/plain": [
       "12"
      ]
     },
     "metadata": {},
     "output_type": "display_data"
    },
    {
     "data": {
      "text/plain": [
       "8"
      ]
     },
     "metadata": {},
     "output_type": "display_data"
    },
    {
     "data": {
      "text/plain": [
       "8"
      ]
     },
     "metadata": {},
     "output_type": "display_data"
    },
    {
     "data": {
      "text/plain": [
       "8"
      ]
     },
     "metadata": {},
     "output_type": "display_data"
    },
    {
     "data": {
      "text/plain": [
       "8"
      ]
     },
     "metadata": {},
     "output_type": "display_data"
    },
    {
     "data": {
      "text/plain": [
       "18"
      ]
     },
     "metadata": {},
     "output_type": "display_data"
    },
    {
     "data": {
      "text/plain": [
       "6"
      ]
     },
     "metadata": {},
     "output_type": "display_data"
    },
    {
     "data": {
      "text/plain": [
       "8"
      ]
     },
     "metadata": {},
     "output_type": "display_data"
    },
    {
     "data": {
      "text/plain": [
       "8"
      ]
     },
     "metadata": {},
     "output_type": "display_data"
    },
    {
     "data": {
      "text/plain": [
       "8"
      ]
     },
     "metadata": {},
     "output_type": "display_data"
    },
    {
     "data": {
      "text/plain": [
       "4"
      ]
     },
     "metadata": {},
     "output_type": "display_data"
    },
    {
     "data": {
      "text/plain": [
       "12"
      ]
     },
     "metadata": {},
     "output_type": "display_data"
    },
    {
     "data": {
      "text/plain": [
       "8"
      ]
     },
     "metadata": {},
     "output_type": "display_data"
    },
    {
     "data": {
      "text/plain": [
       "8"
      ]
     },
     "metadata": {},
     "output_type": "display_data"
    },
    {
     "data": {
      "text/plain": [
       "4"
      ]
     },
     "metadata": {},
     "output_type": "display_data"
    },
    {
     "data": {
      "text/plain": [
       "10"
      ]
     },
     "metadata": {},
     "output_type": "display_data"
    },
    {
     "data": {
      "text/plain": [
       "6"
      ]
     },
     "metadata": {},
     "output_type": "display_data"
    },
    {
     "data": {
      "text/plain": [
       "4"
      ]
     },
     "metadata": {},
     "output_type": "display_data"
    },
    {
     "data": {
      "text/plain": [
       "14"
      ]
     },
     "metadata": {},
     "output_type": "display_data"
    },
    {
     "data": {
      "text/plain": [
       "4"
      ]
     },
     "metadata": {},
     "output_type": "display_data"
    },
    {
     "data": {
      "text/plain": [
       "4"
      ]
     },
     "metadata": {},
     "output_type": "display_data"
    },
    {
     "data": {
      "text/plain": [
       "4"
      ]
     },
     "metadata": {},
     "output_type": "display_data"
    },
    {
     "data": {
      "text/plain": [
       "36"
      ]
     },
     "metadata": {},
     "output_type": "display_data"
    },
    {
     "data": {
      "text/plain": [
       "38"
      ]
     },
     "metadata": {},
     "output_type": "display_data"
    },
    {
     "data": {
      "text/plain": [
       "36"
      ]
     },
     "metadata": {},
     "output_type": "display_data"
    },
    {
     "data": {
      "text/plain": [
       "36"
      ]
     },
     "metadata": {},
     "output_type": "display_data"
    },
    {
     "data": {
      "text/plain": [
       "38"
      ]
     },
     "metadata": {},
     "output_type": "display_data"
    },
    {
     "data": {
      "text/plain": [
       "38"
      ]
     },
     "metadata": {},
     "output_type": "display_data"
    },
    {
     "data": {
      "text/plain": [
       "38"
      ]
     },
     "metadata": {},
     "output_type": "display_data"
    },
    {
     "data": {
      "text/plain": [
       "38"
      ]
     },
     "metadata": {},
     "output_type": "display_data"
    },
    {
     "data": {
      "text/plain": [
       "38"
      ]
     },
     "metadata": {},
     "output_type": "display_data"
    },
    {
     "data": {
      "text/plain": [
       "36"
      ]
     },
     "metadata": {},
     "output_type": "display_data"
    },
    {
     "data": {
      "text/plain": [
       "36"
      ]
     },
     "metadata": {},
     "output_type": "display_data"
    },
    {
     "data": {
      "text/plain": [
       "38"
      ]
     },
     "metadata": {},
     "output_type": "display_data"
    },
    {
     "data": {
      "text/plain": [
       "38"
      ]
     },
     "metadata": {},
     "output_type": "display_data"
    },
    {
     "data": {
      "text/plain": [
       "24"
      ]
     },
     "metadata": {},
     "output_type": "display_data"
    },
    {
     "data": {
      "text/plain": [
       "38"
      ]
     },
     "metadata": {},
     "output_type": "display_data"
    },
    {
     "data": {
      "text/plain": [
       "28"
      ]
     },
     "metadata": {},
     "output_type": "display_data"
    },
    {
     "data": {
      "text/plain": [
       "38"
      ]
     },
     "metadata": {},
     "output_type": "display_data"
    },
    {
     "data": {
      "text/plain": [
       "30"
      ]
     },
     "metadata": {},
     "output_type": "display_data"
    },
    {
     "data": {
      "text/plain": [
       "40"
      ]
     },
     "metadata": {},
     "output_type": "display_data"
    },
    {
     "data": {
      "text/plain": [
       "40"
      ]
     },
     "metadata": {},
     "output_type": "display_data"
    },
    {
     "data": {
      "text/plain": [
       "26"
      ]
     },
     "metadata": {},
     "output_type": "display_data"
    },
    {
     "data": {
      "text/plain": [
       "40"
      ]
     },
     "metadata": {},
     "output_type": "display_data"
    },
    {
     "data": {
      "text/plain": [
       "40"
      ]
     },
     "metadata": {},
     "output_type": "display_data"
    },
    {
     "data": {
      "text/plain": [
       "40"
      ]
     },
     "metadata": {},
     "output_type": "display_data"
    },
    {
     "data": {
      "text/plain": [
       "40"
      ]
     },
     "metadata": {},
     "output_type": "display_data"
    },
    {
     "data": {
      "text/plain": [
       "40"
      ]
     },
     "metadata": {},
     "output_type": "display_data"
    },
    {
     "data": {
      "text/plain": [
       "40"
      ]
     },
     "metadata": {},
     "output_type": "display_data"
    },
    {
     "data": {
      "text/plain": [
       "40"
      ]
     },
     "metadata": {},
     "output_type": "display_data"
    },
    {
     "data": {
      "text/plain": [
       "40"
      ]
     },
     "metadata": {},
     "output_type": "display_data"
    },
    {
     "data": {
      "text/plain": [
       "40"
      ]
     },
     "metadata": {},
     "output_type": "display_data"
    },
    {
     "data": {
      "text/plain": [
       "38"
      ]
     },
     "metadata": {},
     "output_type": "display_data"
    },
    {
     "data": {
      "text/plain": [
       "38"
      ]
     },
     "metadata": {},
     "output_type": "display_data"
    },
    {
     "data": {
      "text/plain": [
       "38"
      ]
     },
     "metadata": {},
     "output_type": "display_data"
    },
    {
     "data": {
      "text/plain": [
       "38"
      ]
     },
     "metadata": {},
     "output_type": "display_data"
    },
    {
     "data": {
      "text/plain": [
       "38"
      ]
     },
     "metadata": {},
     "output_type": "display_data"
    },
    {
     "data": {
      "text/plain": [
       "40"
      ]
     },
     "metadata": {},
     "output_type": "display_data"
    },
    {
     "data": {
      "text/plain": [
       "40"
      ]
     },
     "metadata": {},
     "output_type": "display_data"
    },
    {
     "data": {
      "text/plain": [
       "40"
      ]
     },
     "metadata": {},
     "output_type": "display_data"
    },
    {
     "data": {
      "text/plain": [
       "38"
      ]
     },
     "metadata": {},
     "output_type": "display_data"
    },
    {
     "data": {
      "text/plain": [
       "40"
      ]
     },
     "metadata": {},
     "output_type": "display_data"
    },
    {
     "data": {
      "text/plain": [
       "40"
      ]
     },
     "metadata": {},
     "output_type": "display_data"
    },
    {
     "data": {
      "text/plain": [
       "40"
      ]
     },
     "metadata": {},
     "output_type": "display_data"
    },
    {
     "data": {
      "text/plain": [
       "40"
      ]
     },
     "metadata": {},
     "output_type": "display_data"
    },
    {
     "data": {
      "text/plain": [
       "40"
      ]
     },
     "metadata": {},
     "output_type": "display_data"
    },
    {
     "data": {
      "text/plain": [
       "40"
      ]
     },
     "metadata": {},
     "output_type": "display_data"
    },
    {
     "data": {
      "text/plain": [
       "40"
      ]
     },
     "metadata": {},
     "output_type": "display_data"
    },
    {
     "data": {
      "text/plain": [
       "40"
      ]
     },
     "metadata": {},
     "output_type": "display_data"
    },
    {
     "data": {
      "text/plain": [
       "40"
      ]
     },
     "metadata": {},
     "output_type": "display_data"
    },
    {
     "data": {
      "text/plain": [
       "30"
      ]
     },
     "metadata": {},
     "output_type": "display_data"
    }
   ],
   "source": [
    "#display(df_total)\n",
    "lista_de_participantes = df_total['Participantes'].unique()\n",
    "display(len(lista_de_participantes))\n",
    "for participantes in lista_de_participantes:\n",
    "    df_participantes = df_total[df_total['Participantes'] == participantes]\n",
    "    df_participantes = df_participantes.drop(columns=['Real','Tipo','Condicion','Banda','Participantes','Grupo'])\n",
    "    "
   ]
  }
 ],
 "metadata": {
  "kernelspec": {
   "display_name": "EEG",
   "language": "python",
   "name": "python3"
  },
  "language_info": {
   "codemirror_mode": {
    "name": "ipython",
    "version": 3
   },
   "file_extension": ".py",
   "mimetype": "text/x-python",
   "name": "python",
   "nbconvert_exporter": "python",
   "pygments_lexer": "ipython3",
   "version": "3.12.3"
  }
 },
 "nbformat": 4,
 "nbformat_minor": 5
}
